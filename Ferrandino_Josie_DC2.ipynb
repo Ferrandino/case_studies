{
 "cells": [
  {
   "attachments": {},
   "cell_type": "markdown",
   "metadata": {},
   "source": [
    "# Data Challenge 2 Employee Retention\n",
    "\n",
    "### One of the main drivers of employee retention past the one year mark is salary. \n",
    "Employees with the highest and lowest salaries have a lower rate of churn while those in the middle have a higher rate of churn. \n",
    "\n",
    "### Potential Reasons\n",
    "Individuals with a moderate salary are able to get more money from another job opportunity. Those with high salaries may be content with the money they are making, while those with lower salaries may not be able to get more money from another job offer. \n",
    "\n",
    "### Follow up Actions\n",
    "To target the employees making a moderate amount of money, since they are more likely to leave after a year, the company could offer an automatic salery increase after 36 months on the job. \n",
    "\n",
    "### Data Request\n",
    "It would be great to have salary information for each year the employee was at the company rather than the average salary. My proposed solution depends on the rate of salary increase being meaningful the the employee. If we could identify the rate of salary increase it may be a potential predictor for churn. \n"
   ]
  },
  {
   "cell_type": "code",
   "execution_count": 2,
   "metadata": {},
   "outputs": [],
   "source": [
    "import pandas as pd\n",
    "import numpy as np\n",
    "import pandas as pd\n",
    "import numpy as np\n",
    "import matplotlib.pyplot as plt\n",
    "%matplotlib inline\n",
    "from IPython.core.interactiveshell import InteractiveShell\n",
    "InteractiveShell.ast_node_interactivity = \"all\"\n",
    "import seaborn as sns\n",
    "from datetime import datetime, timedelta\n",
    "import researchpy as rp\n",
    "import statsmodels.api as sm\n",
    "from statsmodels.formula.api import ols\n",
    "import statsmodels.stats.multicomp\n"
   ]
  },
  {
   "cell_type": "code",
   "execution_count": 3,
   "metadata": {},
   "outputs": [],
   "source": [
    "ER = pd.read_csv('/Users/josephineferrandino/Desktop/data_challenges/20A/data_challenge_2/employee_retention.csv', index_col=0)"
   ]
  },
  {
   "cell_type": "code",
   "execution_count": 4,
   "metadata": {},
   "outputs": [
    {
     "data": {
      "text/html": [
       "<div>\n",
       "<style scoped>\n",
       "    .dataframe tbody tr th:only-of-type {\n",
       "        vertical-align: middle;\n",
       "    }\n",
       "\n",
       "    .dataframe tbody tr th {\n",
       "        vertical-align: top;\n",
       "    }\n",
       "\n",
       "    .dataframe thead th {\n",
       "        text-align: right;\n",
       "    }\n",
       "</style>\n",
       "<table border=\"1\" class=\"dataframe\">\n",
       "  <thead>\n",
       "    <tr style=\"text-align: right;\">\n",
       "      <th></th>\n",
       "      <th>employee_id</th>\n",
       "      <th>company_id</th>\n",
       "      <th>dept</th>\n",
       "      <th>seniority</th>\n",
       "      <th>salary</th>\n",
       "      <th>join_date</th>\n",
       "      <th>quit_date</th>\n",
       "    </tr>\n",
       "  </thead>\n",
       "  <tbody>\n",
       "    <tr>\n",
       "      <th>0</th>\n",
       "      <td>1001444.0</td>\n",
       "      <td>8</td>\n",
       "      <td>temp_contractor</td>\n",
       "      <td>0</td>\n",
       "      <td>5850.0</td>\n",
       "      <td>2008-01-26</td>\n",
       "      <td>2008-04-25</td>\n",
       "    </tr>\n",
       "    <tr>\n",
       "      <th>1</th>\n",
       "      <td>388804.0</td>\n",
       "      <td>8</td>\n",
       "      <td>design</td>\n",
       "      <td>21</td>\n",
       "      <td>191000.0</td>\n",
       "      <td>05.17.2011</td>\n",
       "      <td>2012-03-16</td>\n",
       "    </tr>\n",
       "    <tr>\n",
       "      <th>2</th>\n",
       "      <td>407990.0</td>\n",
       "      <td>3</td>\n",
       "      <td>design</td>\n",
       "      <td>9</td>\n",
       "      <td>90000.0</td>\n",
       "      <td>2012-03-26</td>\n",
       "      <td>2015-04-10</td>\n",
       "    </tr>\n",
       "    <tr>\n",
       "      <th>3</th>\n",
       "      <td>120657.0</td>\n",
       "      <td>2</td>\n",
       "      <td>engineer</td>\n",
       "      <td>20</td>\n",
       "      <td>298000.0</td>\n",
       "      <td>2013-04-08</td>\n",
       "      <td>2015-01-30</td>\n",
       "    </tr>\n",
       "    <tr>\n",
       "      <th>4</th>\n",
       "      <td>1006393.0</td>\n",
       "      <td>1</td>\n",
       "      <td>temp_contractor</td>\n",
       "      <td>0</td>\n",
       "      <td>8509.0</td>\n",
       "      <td>2008-07-20</td>\n",
       "      <td>2008-10-18</td>\n",
       "    </tr>\n",
       "  </tbody>\n",
       "</table>\n",
       "</div>"
      ],
      "text/plain": [
       "   employee_id  company_id             dept  seniority    salary   join_date  \\\n",
       "0    1001444.0           8  temp_contractor          0    5850.0  2008-01-26   \n",
       "1     388804.0           8           design         21  191000.0  05.17.2011   \n",
       "2     407990.0           3           design          9   90000.0  2012-03-26   \n",
       "3     120657.0           2         engineer         20  298000.0  2013-04-08   \n",
       "4    1006393.0           1  temp_contractor          0    8509.0  2008-07-20   \n",
       "\n",
       "    quit_date  \n",
       "0  2008-04-25  \n",
       "1  2012-03-16  \n",
       "2  2015-04-10  \n",
       "3  2015-01-30  \n",
       "4  2008-10-18  "
      ]
     },
     "execution_count": 4,
     "metadata": {},
     "output_type": "execute_result"
    }
   ],
   "source": [
    "ER.head()"
   ]
  },
  {
   "cell_type": "code",
   "execution_count": 5,
   "metadata": {},
   "outputs": [
    {
     "name": "stdout",
     "output_type": "stream",
     "text": [
      "<class 'pandas.core.frame.DataFrame'>\n",
      "Int64Index: 34702 entries, 0 to 34701\n",
      "Data columns (total 7 columns):\n",
      "employee_id    34702 non-null float64\n",
      "company_id     34702 non-null int64\n",
      "dept           34702 non-null object\n",
      "seniority      34702 non-null int64\n",
      "salary         34463 non-null float64\n",
      "join_date      34702 non-null object\n",
      "quit_date      23510 non-null object\n",
      "dtypes: float64(2), int64(2), object(3)\n",
      "memory usage: 2.1+ MB\n"
     ]
    }
   ],
   "source": [
    "#missing salary info. not everyone has quit.\n",
    "ER.info()"
   ]
  },
  {
   "cell_type": "code",
   "execution_count": 12,
   "metadata": {},
   "outputs": [
    {
     "data": {
      "text/html": [
       "<div>\n",
       "<style scoped>\n",
       "    .dataframe tbody tr th:only-of-type {\n",
       "        vertical-align: middle;\n",
       "    }\n",
       "\n",
       "    .dataframe tbody tr th {\n",
       "        vertical-align: top;\n",
       "    }\n",
       "\n",
       "    .dataframe thead th {\n",
       "        text-align: right;\n",
       "    }\n",
       "</style>\n",
       "<table border=\"1\" class=\"dataframe\">\n",
       "  <thead>\n",
       "    <tr style=\"text-align: right;\">\n",
       "      <th></th>\n",
       "      <th>employee_id</th>\n",
       "      <th>company_id</th>\n",
       "      <th>seniority</th>\n",
       "      <th>salary</th>\n",
       "    </tr>\n",
       "  </thead>\n",
       "  <tbody>\n",
       "    <tr>\n",
       "      <th>count</th>\n",
       "      <td>3.470200e+04</td>\n",
       "      <td>34702.000000</td>\n",
       "      <td>34702.000000</td>\n",
       "      <td>34463.000000</td>\n",
       "    </tr>\n",
       "    <tr>\n",
       "      <th>mean</th>\n",
       "      <td>6.466667e+05</td>\n",
       "      <td>4.023370</td>\n",
       "      <td>10.056625</td>\n",
       "      <td>100280.585004</td>\n",
       "    </tr>\n",
       "    <tr>\n",
       "      <th>std</th>\n",
       "      <td>3.337653e+05</td>\n",
       "      <td>2.911201</td>\n",
       "      <td>9.355505</td>\n",
       "      <td>87322.502536</td>\n",
       "    </tr>\n",
       "    <tr>\n",
       "      <th>min</th>\n",
       "      <td>3.600000e+01</td>\n",
       "      <td>1.000000</td>\n",
       "      <td>0.000000</td>\n",
       "      <td>5000.000000</td>\n",
       "    </tr>\n",
       "    <tr>\n",
       "      <th>25%</th>\n",
       "      <td>3.529228e+05</td>\n",
       "      <td>1.000000</td>\n",
       "      <td>0.000000</td>\n",
       "      <td>9302.000000</td>\n",
       "    </tr>\n",
       "    <tr>\n",
       "      <th>50%</th>\n",
       "      <td>7.063230e+05</td>\n",
       "      <td>3.000000</td>\n",
       "      <td>8.000000</td>\n",
       "      <td>88000.000000</td>\n",
       "    </tr>\n",
       "    <tr>\n",
       "      <th>75%</th>\n",
       "      <td>1.001324e+06</td>\n",
       "      <td>6.000000</td>\n",
       "      <td>18.000000</td>\n",
       "      <td>158000.000000</td>\n",
       "    </tr>\n",
       "    <tr>\n",
       "      <th>max</th>\n",
       "      <td>1.009999e+06</td>\n",
       "      <td>12.000000</td>\n",
       "      <td>99.000000</td>\n",
       "      <td>408000.000000</td>\n",
       "    </tr>\n",
       "  </tbody>\n",
       "</table>\n",
       "</div>"
      ],
      "text/plain": [
       "        employee_id    company_id     seniority         salary\n",
       "count  3.470200e+04  34702.000000  34702.000000   34463.000000\n",
       "mean   6.466667e+05      4.023370     10.056625  100280.585004\n",
       "std    3.337653e+05      2.911201      9.355505   87322.502536\n",
       "min    3.600000e+01      1.000000      0.000000    5000.000000\n",
       "25%    3.529228e+05      1.000000      0.000000    9302.000000\n",
       "50%    7.063230e+05      3.000000      8.000000   88000.000000\n",
       "75%    1.001324e+06      6.000000     18.000000  158000.000000\n",
       "max    1.009999e+06     12.000000     99.000000  408000.000000"
      ]
     },
     "execution_count": 12,
     "metadata": {},
     "output_type": "execute_result"
    }
   ],
   "source": [
    "#missing data in salary \n",
    "ER.describe()"
   ]
  },
  {
   "cell_type": "markdown",
   "metadata": {},
   "source": [
    "# missing data\n",
    "\n",
    "1) salary information is missing for some individuals\n",
    "2) quit_data is listed as missing for those still working at the company "
   ]
  },
  {
   "cell_type": "code",
   "execution_count": 8,
   "metadata": {},
   "outputs": [
    {
     "data": {
      "image/png": "[encoded data removed]",
      "text/plain": [
       "<Figure size 432x288 with 1 Axes>"
      ]
     },
     "metadata": {},
     "output_type": "display_data"
    }
   ],
   "source": [
    "sns.set(style=\"darkgrid\")\n",
    "ax = sns.countplot(x = 'company_id', data = ER)"
   ]
  },
  {
   "cell_type": "code",
   "execution_count": 9,
   "metadata": {},
   "outputs": [
    {
     "data": {
      "text/plain": [
       "[Text(0, 0, 'temp_contractor'),\n",
       " Text(0, 0, 'design'),\n",
       " Text(0, 0, 'engineer'),\n",
       " Text(0, 0, 'marketing'),\n",
       " Text(0, 0, 'customer_service'),\n",
       " Text(0, 0, 'data_science'),\n",
       " Text(0, 0, 'sales')]"
      ]
     },
     "execution_count": 9,
     "metadata": {},
     "output_type": "execute_result"
    },
    {
     "data": {
      "image/png": "[encoded data removed]",
      "text/plain": [
       "<Figure size 432x288 with 1 Axes>"
      ]
     },
     "metadata": {},
     "output_type": "display_data"
    }
   ],
   "source": [
    "sns.set(style=\"darkgrid\")\n",
    "ax = sns.countplot(x = 'dept', data = ER)\n",
    "ax.set_xticklabels(ax.get_xticklabels(), rotation=40, ha=\"right\")"
   ]
  },
  {
   "cell_type": "code",
   "execution_count": 10,
   "metadata": {},
   "outputs": [
    {
     "data": {
      "image/png": "[encoded data removed]",
      "text/plain": [
       "<Figure size 432x288 with 1 Axes>"
      ]
     },
     "metadata": {},
     "output_type": "display_data"
    }
   ],
   "source": [
    "sns.set(style=\"darkgrid\")\n",
    "ax = sns.countplot(x = 'seniority', data = ER)"
   ]
  },
  {
   "cell_type": "code",
   "execution_count": 11,
   "metadata": {},
   "outputs": [],
   "source": [
    "ER.drop( ER[ ER['dept']== 'temp_contractor' ].index , inplace=True)"
   ]
  },
  {
   "cell_type": "code",
   "execution_count": null,
   "metadata": {},
   "outputs": [],
   "source": []
  },
  {
   "cell_type": "code",
   "execution_count": 14,
   "metadata": {},
   "outputs": [
    {
     "data": {
      "image/png": "[encoded data removed]",
      "text/plain": [
       "<Figure size 432x288 with 1 Axes>"
      ]
     },
     "metadata": {},
     "output_type": "display_data"
    }
   ],
   "source": [
    "sns.set(style=\"darkgrid\")\n",
    "ax = sns.countplot(x = 'seniority', data = ER)"
   ]
  },
  {
   "attachments": {},
   "cell_type": "markdown",
   "metadata": {},
   "source": [
    "# remove temp contractors\n",
    "\n",
    "These employees do not contribute to our understanding of retention as they a hired with an expiration date. "
   ]
  },
  {
   "cell_type": "code",
   "execution_count": 17,
   "metadata": {},
   "outputs": [
    {
     "data": {
      "text/plain": [
       "<matplotlib.collections.PathCollection at 0x11e977950>"
      ]
     },
     "execution_count": 17,
     "metadata": {},
     "output_type": "execute_result"
    },
    {
     "data": {
      "text/plain": [
       "Text(0.5, 0, 'Seniority')"
      ]
     },
     "execution_count": 17,
     "metadata": {},
     "output_type": "execute_result"
    },
    {
     "data": {
      "text/plain": [
       "Text(0, 0.5, 'Salary')"
      ]
     },
     "execution_count": 17,
     "metadata": {},
     "output_type": "execute_result"
    },
    {
     "data": {
      "image/png": "[encoded data removed]",
      "text/plain": [
       "<Figure size 432x288 with 1 Axes>"
      ]
     },
     "metadata": {},
     "output_type": "display_data"
    }
   ],
   "source": [
    "#is salary corrolated with experience \n",
    "plt.scatter(ER.seniority, ER.salary)\n",
    "plt.xlabel('Seniority')\n",
    "plt.ylabel('Salary')\n",
    "plt.show()"
   ]
  },
  {
   "cell_type": "code",
   "execution_count": 19,
   "metadata": {},
   "outputs": [
    {
     "data": {
      "text/plain": [
       "<matplotlib.collections.PathCollection at 0x11e789c90>"
      ]
     },
     "execution_count": 19,
     "metadata": {},
     "output_type": "execute_result"
    },
    {
     "data": {
      "text/plain": [
       "Text(0.5, 0, 'Experience')"
      ]
     },
     "execution_count": 19,
     "metadata": {},
     "output_type": "execute_result"
    },
    {
     "data": {
      "text/plain": [
       "Text(0, 0.5, 'Salary')"
      ]
     },
     "execution_count": 19,
     "metadata": {},
     "output_type": "execute_result"
    },
    {
     "data": {
      "image/png": "[encoded data removed]",
      "text/plain": [
       "<Figure size 432x288 with 1 Axes>"
      ]
     },
     "metadata": {},
     "output_type": "display_data"
    }
   ],
   "source": [
    "ER.drop( ER[ ER['seniority'] > 30 ].index , inplace=True)\n",
    "plt.scatter(ER.seniority, ER.salary)\n",
    "plt.xlabel('Experience')\n",
    "plt.ylabel('Salary')\n",
    "plt.show()"
   ]
  },
  {
   "cell_type": "markdown",
   "metadata": {},
   "source": [
    "# remove outliers"
   ]
  },
  {
   "cell_type": "markdown",
   "metadata": {},
   "source": [
    "For each employee, we also know if they are still at the company as of 2015/12/13 or they have quit"
   ]
  },
  {
   "cell_type": "code",
   "execution_count": 25,
   "metadata": {},
   "outputs": [
    {
     "name": "stdout",
     "output_type": "stream",
     "text": [
      "Missing Salary Information: 239\n"
     ]
    }
   ],
   "source": [
    "print(\"Missing Salary Information:\",ER['salary'].isnull().sum())"
   ]
  },
  {
   "cell_type": "code",
   "execution_count": null,
   "metadata": {},
   "outputs": [],
   "source": [
    "modER = ER.dropna(how='any', subset=['salary'])"
   ]
  },
  {
   "cell_type": "markdown",
   "metadata": {},
   "source": [
    "# remove missing salary data"
   ]
  },
  {
   "cell_type": "code",
   "execution_count": 28,
   "metadata": {},
   "outputs": [
    {
     "name": "stdout",
     "output_type": "stream",
     "text": [
      "Total hired: 24461\n",
      "Still working at job: 11084\n",
      "Left Job: 13377\n"
     ]
    }
   ],
   "source": [
    "print(\"Total hired:\",modER['join_date'].notnull().sum())\n",
    "print(\"Still working at job:\",modER['quit_date'].isnull().sum())\n",
    "print(\"Left Job:\",(modER['join_date'].notnull().sum())-modER['quit_date'].isnull().sum())"
   ]
  },
  {
   "cell_type": "markdown",
   "metadata": {},
   "source": [
    "# As of 2015/12/13, how many employees have quit?\n",
    "\n",
    "After removing outliers, temp workers and employees with missing salary data, a total of 13,377 out of 24,461 employees or 55% of employees hired between January 24th, 2011 and December 13th, 2015 quit.  "
   ]
  },
  {
   "cell_type": "code",
   "execution_count": 29,
   "metadata": {},
   "outputs": [
    {
     "name": "stderr",
     "output_type": "stream",
     "text": [
      "/Applications/anaconda3/lib/python3.7/site-packages/ipykernel_launcher.py:1: SettingWithCopyWarning: \n",
      "A value is trying to be set on a copy of a slice from a DataFrame.\n",
      "Try using .loc[row_indexer,col_indexer] = value instead\n",
      "\n",
      "See the caveats in the documentation: http://pandas.pydata.org/pandas-docs/stable/user_guide/indexing.html#returning-a-view-versus-a-copy\n",
      "  \"\"\"Entry point for launching an IPython kernel.\n",
      "/Applications/anaconda3/lib/python3.7/site-packages/ipykernel_launcher.py:2: SettingWithCopyWarning: \n",
      "A value is trying to be set on a copy of a slice from a DataFrame.\n",
      "Try using .loc[row_indexer,col_indexer] = value instead\n",
      "\n",
      "See the caveats in the documentation: http://pandas.pydata.org/pandas-docs/stable/user_guide/indexing.html#returning-a-view-versus-a-copy\n",
      "  \n"
     ]
    }
   ],
   "source": [
    "modER['join_date'] = pd.to_datetime(modER['join_date'])\n",
    "modER['quit_date'] = pd.to_datetime(modER['quit_date'])"
   ]
  },
  {
   "cell_type": "code",
   "execution_count": 31,
   "metadata": {},
   "outputs": [
    {
     "name": "stderr",
     "output_type": "stream",
     "text": [
      "/Applications/anaconda3/lib/python3.7/site-packages/ipykernel_launcher.py:1: SettingWithCopyWarning: \n",
      "A value is trying to be set on a copy of a slice from a DataFrame.\n",
      "Try using .loc[row_indexer,col_indexer] = value instead\n",
      "\n",
      "See the caveats in the documentation: http://pandas.pydata.org/pandas-docs/stable/user_guide/indexing.html#returning-a-view-versus-a-copy\n",
      "  \"\"\"Entry point for launching an IPython kernel.\n"
     ]
    }
   ],
   "source": [
    "modER['diff'] = (modER['quit_date']-modER['join_date'])/timedelta(days=1)"
   ]
  },
  {
   "cell_type": "code",
   "execution_count": 33,
   "metadata": {},
   "outputs": [
    {
     "data": {
      "text/plain": [
       "datetime.datetime(2015, 12, 13, 0, 0)"
      ]
     },
     "execution_count": 33,
     "metadata": {},
     "output_type": "execute_result"
    }
   ],
   "source": [
    "constant = datetime(year=2015,month=12,day=13)\n",
    "constant"
   ]
  },
  {
   "cell_type": "code",
   "execution_count": 34,
   "metadata": {},
   "outputs": [
    {
     "name": "stderr",
     "output_type": "stream",
     "text": [
      "/Applications/anaconda3/lib/python3.7/site-packages/ipykernel_launcher.py:1: SettingWithCopyWarning: \n",
      "A value is trying to be set on a copy of a slice from a DataFrame.\n",
      "Try using .loc[row_indexer,col_indexer] = value instead\n",
      "\n",
      "See the caveats in the documentation: http://pandas.pydata.org/pandas-docs/stable/user_guide/indexing.html#returning-a-view-versus-a-copy\n",
      "  \"\"\"Entry point for launching an IPython kernel.\n"
     ]
    }
   ],
   "source": [
    "modER['diff_NQD'] = (constant-modER['join_date'])/timedelta(days=1)"
   ]
  },
  {
   "cell_type": "code",
   "execution_count": 35,
   "metadata": {},
   "outputs": [
    {
     "data": {
      "text/html": [
       "<div>\n",
       "<style scoped>\n",
       "    .dataframe tbody tr th:only-of-type {\n",
       "        vertical-align: middle;\n",
       "    }\n",
       "\n",
       "    .dataframe tbody tr th {\n",
       "        vertical-align: top;\n",
       "    }\n",
       "\n",
       "    .dataframe thead th {\n",
       "        text-align: right;\n",
       "    }\n",
       "</style>\n",
       "<table border=\"1\" class=\"dataframe\">\n",
       "  <thead>\n",
       "    <tr style=\"text-align: right;\">\n",
       "      <th></th>\n",
       "      <th>employee_id</th>\n",
       "      <th>company_id</th>\n",
       "      <th>dept</th>\n",
       "      <th>seniority</th>\n",
       "      <th>salary</th>\n",
       "      <th>join_date</th>\n",
       "      <th>quit_date</th>\n",
       "      <th>diff</th>\n",
       "      <th>diff_NQD</th>\n",
       "    </tr>\n",
       "  </thead>\n",
       "  <tbody>\n",
       "    <tr>\n",
       "      <th>1</th>\n",
       "      <td>388804.0</td>\n",
       "      <td>8</td>\n",
       "      <td>design</td>\n",
       "      <td>21</td>\n",
       "      <td>191000.0</td>\n",
       "      <td>2011-05-17</td>\n",
       "      <td>2012-03-16</td>\n",
       "      <td>304.0</td>\n",
       "      <td>1671.0</td>\n",
       "    </tr>\n",
       "    <tr>\n",
       "      <th>2</th>\n",
       "      <td>407990.0</td>\n",
       "      <td>3</td>\n",
       "      <td>design</td>\n",
       "      <td>9</td>\n",
       "      <td>90000.0</td>\n",
       "      <td>2012-03-26</td>\n",
       "      <td>2015-04-10</td>\n",
       "      <td>1110.0</td>\n",
       "      <td>1357.0</td>\n",
       "    </tr>\n",
       "    <tr>\n",
       "      <th>3</th>\n",
       "      <td>120657.0</td>\n",
       "      <td>2</td>\n",
       "      <td>engineer</td>\n",
       "      <td>20</td>\n",
       "      <td>298000.0</td>\n",
       "      <td>2013-04-08</td>\n",
       "      <td>2015-01-30</td>\n",
       "      <td>662.0</td>\n",
       "      <td>979.0</td>\n",
       "    </tr>\n",
       "    <tr>\n",
       "      <th>5</th>\n",
       "      <td>287530.0</td>\n",
       "      <td>5</td>\n",
       "      <td>marketing</td>\n",
       "      <td>20</td>\n",
       "      <td>180000.0</td>\n",
       "      <td>2014-06-30</td>\n",
       "      <td>NaT</td>\n",
       "      <td>NaN</td>\n",
       "      <td>531.0</td>\n",
       "    </tr>\n",
       "    <tr>\n",
       "      <th>6</th>\n",
       "      <td>561043.0</td>\n",
       "      <td>3</td>\n",
       "      <td>customer_service</td>\n",
       "      <td>18</td>\n",
       "      <td>119000.0</td>\n",
       "      <td>2012-07-02</td>\n",
       "      <td>2014-03-28</td>\n",
       "      <td>634.0</td>\n",
       "      <td>1259.0</td>\n",
       "    </tr>\n",
       "  </tbody>\n",
       "</table>\n",
       "</div>"
      ],
      "text/plain": [
       "   employee_id  company_id              dept  seniority    salary  join_date  \\\n",
       "1     388804.0           8            design         21  191000.0 2011-05-17   \n",
       "2     407990.0           3            design          9   90000.0 2012-03-26   \n",
       "3     120657.0           2          engineer         20  298000.0 2013-04-08   \n",
       "5     287530.0           5         marketing         20  180000.0 2014-06-30   \n",
       "6     561043.0           3  customer_service         18  119000.0 2012-07-02   \n",
       "\n",
       "   quit_date    diff  diff_NQD  \n",
       "1 2012-03-16   304.0    1671.0  \n",
       "2 2015-04-10  1110.0    1357.0  \n",
       "3 2015-01-30   662.0     979.0  \n",
       "5        NaT     NaN     531.0  \n",
       "6 2014-03-28   634.0    1259.0  "
      ]
     },
     "execution_count": 35,
     "metadata": {},
     "output_type": "execute_result"
    }
   ],
   "source": [
    "modER.head()"
   ]
  },
  {
   "cell_type": "code",
   "execution_count": 227,
   "metadata": {},
   "outputs": [],
   "source": [
    "#sns.set(style=\"darkgrid\")\n",
    "#ax = sns.countplot(x = 'diff', data = modER)"
   ]
  },
  {
   "cell_type": "code",
   "execution_count": 228,
   "metadata": {},
   "outputs": [
    {
     "data": {
      "text/plain": [
       "<matplotlib.axes._subplots.AxesSubplot at 0x147432ed0>"
      ]
     },
     "execution_count": 228,
     "metadata": {},
     "output_type": "execute_result"
    },
    {
     "data": {
      "text/plain": [
       "Text(0, 0.5, '# of employees who quit')"
      ]
     },
     "execution_count": 228,
     "metadata": {},
     "output_type": "execute_result"
    },
    {
     "data": {
      "text/plain": [
       "Text(0.5, 0, 'time in the job')"
      ]
     },
     "execution_count": 228,
     "metadata": {},
     "output_type": "execute_result"
    },
    {
     "data": {
      "image/png": "[encoded data removed]",
      "text/plain": [
       "<Figure size 432x288 with 1 Axes>"
      ]
     },
     "metadata": {},
     "output_type": "display_data"
    }
   ],
   "source": [
    "modER.loc[modER['employee_id'],'diff'].hist(bins=60)\n",
    "plt.ylabel('# of employees who quit')\n",
    "plt.xlabel('time in the job')"
   ]
  },
  {
   "cell_type": "markdown",
   "metadata": {},
   "source": [
    "# Is there a difference between those who left within the first 500 days versus those who stayed for longer than 500 days?"
   ]
  },
  {
   "cell_type": "code",
   "execution_count": 214,
   "metadata": {},
   "outputs": [
    {
     "name": "stderr",
     "output_type": "stream",
     "text": [
      "/Applications/anaconda3/lib/python3.7/site-packages/ipykernel_launcher.py:2: SettingWithCopyWarning: \n",
      "A value is trying to be set on a copy of a slice from a DataFrame.\n",
      "Try using .loc[row_indexer,col_indexer] = value instead\n",
      "\n",
      "See the caveats in the documentation: http://pandas.pydata.org/pandas-docs/stable/user_guide/indexing.html#returning-a-view-versus-a-copy\n",
      "  \n"
     ]
    }
   ],
   "source": [
    "samp_quit = modER[modER['diff']<=500]\n",
    "samp_quit['churn'] = 0"
   ]
  },
  {
   "cell_type": "code",
   "execution_count": 215,
   "metadata": {},
   "outputs": [
    {
     "name": "stdout",
     "output_type": "stream",
     "text": [
      "<class 'pandas.core.frame.DataFrame'>\n",
      "Int64Index: 7268 entries, 1 to 34695\n",
      "Data columns (total 10 columns):\n",
      "employee_id    7268 non-null float64\n",
      "company_id     7268 non-null int64\n",
      "dept           7268 non-null object\n",
      "seniority      7268 non-null int64\n",
      "salary         7268 non-null float64\n",
      "join_date      7268 non-null datetime64[ns]\n",
      "quit_date      7268 non-null datetime64[ns]\n",
      "diff           7268 non-null float64\n",
      "diff_NQD       7268 non-null float64\n",
      "churn          7268 non-null int64\n",
      "dtypes: datetime64[ns](2), float64(4), int64(3), object(1)\n",
      "memory usage: 624.6+ KB\n"
     ]
    }
   ],
   "source": [
    "samp_quit.info()"
   ]
  },
  {
   "cell_type": "code",
   "execution_count": 216,
   "metadata": {},
   "outputs": [
    {
     "name": "stdout",
     "output_type": "stream",
     "text": [
      "<class 'pandas.core.frame.DataFrame'>\n",
      "Int64Index: 4994 entries, 5 to 34691\n",
      "Data columns (total 10 columns):\n",
      "employee_id    4994 non-null float64\n",
      "company_id     4994 non-null int64\n",
      "dept           4994 non-null object\n",
      "seniority      4994 non-null int64\n",
      "salary         4994 non-null float64\n",
      "join_date      4994 non-null datetime64[ns]\n",
      "quit_date      0 non-null datetime64[ns]\n",
      "diff           0 non-null float64\n",
      "diff_NQD       4994 non-null float64\n",
      "churn          4994 non-null int64\n",
      "dtypes: datetime64[ns](2), float64(4), int64(3), object(1)\n",
      "memory usage: 429.2+ KB\n"
     ]
    },
    {
     "name": "stderr",
     "output_type": "stream",
     "text": [
      "/Applications/anaconda3/lib/python3.7/site-packages/ipykernel_launcher.py:4: SettingWithCopyWarning: \n",
      "A value is trying to be set on a copy of a slice from a DataFrame.\n",
      "Try using .loc[row_indexer,col_indexer] = value instead\n",
      "\n",
      "See the caveats in the documentation: http://pandas.pydata.org/pandas-docs/stable/user_guide/indexing.html#returning-a-view-versus-a-copy\n",
      "  after removing the cwd from sys.path.\n"
     ]
    }
   ],
   "source": [
    "#modER[modER['quit_date']==NaT]\n",
    "samp = modER[modER['quit_date'].isnull()] \n",
    "samp_stay = samp[samp['diff_NQD']>=500]\n",
    "samp_stay['churn'] = 1\n",
    "samp_stay.info()"
   ]
  },
  {
   "cell_type": "code",
   "execution_count": 217,
   "metadata": {},
   "outputs": [],
   "source": [
    "sample = samp_quit.append(samp_stay)"
   ]
  },
  {
   "cell_type": "code",
   "execution_count": 234,
   "metadata": {},
   "outputs": [
    {
     "data": {
      "text/html": [
       "<div>\n",
       "<style scoped>\n",
       "    .dataframe tbody tr th:only-of-type {\n",
       "        vertical-align: middle;\n",
       "    }\n",
       "\n",
       "    .dataframe tbody tr th {\n",
       "        vertical-align: top;\n",
       "    }\n",
       "\n",
       "    .dataframe thead th {\n",
       "        text-align: right;\n",
       "    }\n",
       "</style>\n",
       "<table border=\"1\" class=\"dataframe\">\n",
       "  <thead>\n",
       "    <tr style=\"text-align: right;\">\n",
       "      <th></th>\n",
       "      <th>employee_id</th>\n",
       "      <th>company_id</th>\n",
       "      <th>dept</th>\n",
       "      <th>seniority</th>\n",
       "      <th>salary</th>\n",
       "      <th>join_date</th>\n",
       "      <th>quit_date</th>\n",
       "      <th>diff</th>\n",
       "      <th>diff_NQD</th>\n",
       "      <th>churn</th>\n",
       "      <th>seniority_group</th>\n",
       "      <th>salary_group</th>\n",
       "    </tr>\n",
       "  </thead>\n",
       "  <tbody>\n",
       "    <tr>\n",
       "      <th>1</th>\n",
       "      <td>388804.0</td>\n",
       "      <td>8</td>\n",
       "      <td>design</td>\n",
       "      <td>21</td>\n",
       "      <td>191000.0</td>\n",
       "      <td>2011-05-17</td>\n",
       "      <td>2012-03-16</td>\n",
       "      <td>304.0</td>\n",
       "      <td>1671.0</td>\n",
       "      <td>0</td>\n",
       "      <td>expert</td>\n",
       "      <td>really_high</td>\n",
       "    </tr>\n",
       "    <tr>\n",
       "      <th>11</th>\n",
       "      <td>838072.0</td>\n",
       "      <td>3</td>\n",
       "      <td>data_science</td>\n",
       "      <td>13</td>\n",
       "      <td>162000.0</td>\n",
       "      <td>2011-10-03</td>\n",
       "      <td>2012-08-10</td>\n",
       "      <td>312.0</td>\n",
       "      <td>1532.0</td>\n",
       "      <td>0</td>\n",
       "      <td>intermediate</td>\n",
       "      <td>high</td>\n",
       "    </tr>\n",
       "    <tr>\n",
       "      <th>12</th>\n",
       "      <td>205557.0</td>\n",
       "      <td>8</td>\n",
       "      <td>customer_service</td>\n",
       "      <td>17</td>\n",
       "      <td>109000.0</td>\n",
       "      <td>2013-07-22</td>\n",
       "      <td>2014-07-18</td>\n",
       "      <td>361.0</td>\n",
       "      <td>874.0</td>\n",
       "      <td>0</td>\n",
       "      <td>expert</td>\n",
       "      <td>med</td>\n",
       "    </tr>\n",
       "    <tr>\n",
       "      <th>23</th>\n",
       "      <td>182278.0</td>\n",
       "      <td>1</td>\n",
       "      <td>sales</td>\n",
       "      <td>19</td>\n",
       "      <td>179000.0</td>\n",
       "      <td>2011-09-19</td>\n",
       "      <td>2012-11-02</td>\n",
       "      <td>410.0</td>\n",
       "      <td>1546.0</td>\n",
       "      <td>0</td>\n",
       "      <td>expert</td>\n",
       "      <td>high</td>\n",
       "    </tr>\n",
       "    <tr>\n",
       "      <th>28</th>\n",
       "      <td>28269.0</td>\n",
       "      <td>2</td>\n",
       "      <td>sales</td>\n",
       "      <td>9</td>\n",
       "      <td>153000.0</td>\n",
       "      <td>2011-08-29</td>\n",
       "      <td>2012-08-03</td>\n",
       "      <td>340.0</td>\n",
       "      <td>1567.0</td>\n",
       "      <td>0</td>\n",
       "      <td>intermediate</td>\n",
       "      <td>high</td>\n",
       "    </tr>\n",
       "  </tbody>\n",
       "</table>\n",
       "</div>"
      ],
      "text/plain": [
       "    employee_id  company_id              dept  seniority    salary  join_date  \\\n",
       "1      388804.0           8            design         21  191000.0 2011-05-17   \n",
       "11     838072.0           3      data_science         13  162000.0 2011-10-03   \n",
       "12     205557.0           8  customer_service         17  109000.0 2013-07-22   \n",
       "23     182278.0           1             sales         19  179000.0 2011-09-19   \n",
       "28      28269.0           2             sales          9  153000.0 2011-08-29   \n",
       "\n",
       "    quit_date   diff  diff_NQD  churn seniority_group salary_group  \n",
       "1  2012-03-16  304.0    1671.0      0          expert  really_high  \n",
       "11 2012-08-10  312.0    1532.0      0    intermediate         high  \n",
       "12 2014-07-18  361.0     874.0      0          expert          med  \n",
       "23 2012-11-02  410.0    1546.0      0          expert         high  \n",
       "28 2012-08-03  340.0    1567.0      0    intermediate         high  "
      ]
     },
     "execution_count": 234,
     "metadata": {},
     "output_type": "execute_result"
    }
   ],
   "source": [
    "sample['seniority_group'] = pd.cut(sample.seniority,bins = [1,7,14,21,29],labels = ['beginner','intermediate','expert','master'])\n",
    "sample['salary_group'] = pd.cut(sample.salary,bins = [17000,78000,123000,187000,408000],labels = ['low','med','high','really_high'])\n",
    "sample.head()"
   ]
  },
  {
   "cell_type": "code",
   "execution_count": 235,
   "metadata": {},
   "outputs": [
    {
     "data": {
      "text/plain": [
       "<matplotlib.axes._subplots.AxesSubplot at 0x1487ded50>"
      ]
     },
     "execution_count": 235,
     "metadata": {},
     "output_type": "execute_result"
    },
    {
     "data": {
      "image/png": "[encoded data removed]",
      "text/plain": [
       "<Figure size 432x288 with 1 Axes>"
      ]
     },
     "metadata": {},
     "output_type": "display_data"
    }
   ],
   "source": [
    "sns.set_style('whitegrid')\n",
    "sns.countplot(x='company_id',hue='churn',data=sample,palette='RdBu_r')"
   ]
  },
  {
   "cell_type": "code",
   "execution_count": 236,
   "metadata": {},
   "outputs": [
    {
     "data": {
      "text/plain": [
       "<matplotlib.axes._subplots.AxesSubplot at 0x1481910d0>"
      ]
     },
     "execution_count": 236,
     "metadata": {},
     "output_type": "execute_result"
    },
    {
     "data": {
      "image/png": "[encoded data removed]",
      "text/plain": [
       "<Figure size 432x288 with 1 Axes>"
      ]
     },
     "metadata": {},
     "output_type": "display_data"
    }
   ],
   "source": [
    "sns.set_style('whitegrid')\n",
    "sns.countplot(x='salary_group',hue='churn',data=sample,palette='RdBu_r')"
   ]
  },
  {
   "cell_type": "code",
   "execution_count": null,
   "metadata": {},
   "outputs": [],
   "source": []
  },
  {
   "cell_type": "code",
   "execution_count": 237,
   "metadata": {},
   "outputs": [
    {
     "data": {
      "text/plain": [
       "<matplotlib.axes._subplots.AxesSubplot at 0x1489a2910>"
      ]
     },
     "execution_count": 237,
     "metadata": {},
     "output_type": "execute_result"
    },
    {
     "data": {
      "image/png": "[encoded data removed]",
      "text/plain": [
       "<Figure size 432x288 with 1 Axes>"
      ]
     },
     "metadata": {},
     "output_type": "display_data"
    }
   ],
   "source": [
    "sns.set_style('whitegrid')\n",
    "sns.countplot(x='seniority_group',hue='churn',data=sample,palette='RdBu_r')"
   ]
  },
  {
   "cell_type": "code",
   "execution_count": 239,
   "metadata": {},
   "outputs": [
    {
     "data": {
      "text/plain": [
       "[Text(0, 0, 'design'),\n",
       " Text(0, 0, 'data_science'),\n",
       " Text(0, 0, 'customer_service'),\n",
       " Text(0, 0, 'sales'),\n",
       " Text(0, 0, 'marketing'),\n",
       " Text(0, 0, 'engineer')]"
      ]
     },
     "execution_count": 239,
     "metadata": {},
     "output_type": "execute_result"
    },
    {
     "data": {
      "image/png": "[encoded data removed]",
      "text/plain": [
       "<Figure size 432x288 with 1 Axes>"
      ]
     },
     "metadata": {},
     "output_type": "display_data"
    }
   ],
   "source": [
    "sns.set_style('whitegrid')\n",
    "ax = sns.countplot(x='dept',hue='churn',data=sample,palette='RdBu_r')\n",
    "ax.set_xticklabels(ax.get_xticklabels(), rotation=40, ha=\"right\")"
   ]
  },
  {
   "cell_type": "code",
   "execution_count": 240,
   "metadata": {},
   "outputs": [],
   "source": [
    "depts = pd.get_dummies(sample['dept'])\n",
    "sample = pd.concat([sample,depts],axis=1)\n",
    "company_ids = pd.get_dummies(sample['company_id'])\n",
    "sample = pd.concat([sample,company_ids],axis=1)\n",
    "seniority_groups = pd.get_dummies(sample['seniority_group'])\n",
    "sample = pd.concat([sample,seniority_groups],axis=1)\n",
    "salary_groups = pd.get_dummies(sample['salary_group'])\n",
    "sample = pd.concat([sample,salary_groups],axis=1)"
   ]
  },
  {
   "cell_type": "code",
   "execution_count": 241,
   "metadata": {},
   "outputs": [
    {
     "data": {
      "text/html": [
       "<div>\n",
       "<style scoped>\n",
       "    .dataframe tbody tr th:only-of-type {\n",
       "        vertical-align: middle;\n",
       "    }\n",
       "\n",
       "    .dataframe tbody tr th {\n",
       "        vertical-align: top;\n",
       "    }\n",
       "\n",
       "    .dataframe thead th {\n",
       "        text-align: right;\n",
       "    }\n",
       "</style>\n",
       "<table border=\"1\" class=\"dataframe\">\n",
       "  <thead>\n",
       "    <tr style=\"text-align: right;\">\n",
       "      <th></th>\n",
       "      <th>employee_id</th>\n",
       "      <th>company_id</th>\n",
       "      <th>dept</th>\n",
       "      <th>seniority</th>\n",
       "      <th>salary</th>\n",
       "      <th>join_date</th>\n",
       "      <th>quit_date</th>\n",
       "      <th>diff</th>\n",
       "      <th>diff_NQD</th>\n",
       "      <th>churn</th>\n",
       "      <th>...</th>\n",
       "      <th>11</th>\n",
       "      <th>12</th>\n",
       "      <th>beginner</th>\n",
       "      <th>intermediate</th>\n",
       "      <th>expert</th>\n",
       "      <th>master</th>\n",
       "      <th>low</th>\n",
       "      <th>med</th>\n",
       "      <th>high</th>\n",
       "      <th>really_high</th>\n",
       "    </tr>\n",
       "  </thead>\n",
       "  <tbody>\n",
       "    <tr>\n",
       "      <th>1</th>\n",
       "      <td>388804.0</td>\n",
       "      <td>8</td>\n",
       "      <td>design</td>\n",
       "      <td>21</td>\n",
       "      <td>191000.0</td>\n",
       "      <td>2011-05-17</td>\n",
       "      <td>2012-03-16</td>\n",
       "      <td>304.0</td>\n",
       "      <td>1671.0</td>\n",
       "      <td>0</td>\n",
       "      <td>...</td>\n",
       "      <td>0</td>\n",
       "      <td>0</td>\n",
       "      <td>0</td>\n",
       "      <td>0</td>\n",
       "      <td>1</td>\n",
       "      <td>0</td>\n",
       "      <td>0</td>\n",
       "      <td>0</td>\n",
       "      <td>0</td>\n",
       "      <td>1</td>\n",
       "    </tr>\n",
       "    <tr>\n",
       "      <th>11</th>\n",
       "      <td>838072.0</td>\n",
       "      <td>3</td>\n",
       "      <td>data_science</td>\n",
       "      <td>13</td>\n",
       "      <td>162000.0</td>\n",
       "      <td>2011-10-03</td>\n",
       "      <td>2012-08-10</td>\n",
       "      <td>312.0</td>\n",
       "      <td>1532.0</td>\n",
       "      <td>0</td>\n",
       "      <td>...</td>\n",
       "      <td>0</td>\n",
       "      <td>0</td>\n",
       "      <td>0</td>\n",
       "      <td>1</td>\n",
       "      <td>0</td>\n",
       "      <td>0</td>\n",
       "      <td>0</td>\n",
       "      <td>0</td>\n",
       "      <td>1</td>\n",
       "      <td>0</td>\n",
       "    </tr>\n",
       "    <tr>\n",
       "      <th>12</th>\n",
       "      <td>205557.0</td>\n",
       "      <td>8</td>\n",
       "      <td>customer_service</td>\n",
       "      <td>17</td>\n",
       "      <td>109000.0</td>\n",
       "      <td>2013-07-22</td>\n",
       "      <td>2014-07-18</td>\n",
       "      <td>361.0</td>\n",
       "      <td>874.0</td>\n",
       "      <td>0</td>\n",
       "      <td>...</td>\n",
       "      <td>0</td>\n",
       "      <td>0</td>\n",
       "      <td>0</td>\n",
       "      <td>0</td>\n",
       "      <td>1</td>\n",
       "      <td>0</td>\n",
       "      <td>0</td>\n",
       "      <td>1</td>\n",
       "      <td>0</td>\n",
       "      <td>0</td>\n",
       "    </tr>\n",
       "    <tr>\n",
       "      <th>23</th>\n",
       "      <td>182278.0</td>\n",
       "      <td>1</td>\n",
       "      <td>sales</td>\n",
       "      <td>19</td>\n",
       "      <td>179000.0</td>\n",
       "      <td>2011-09-19</td>\n",
       "      <td>2012-11-02</td>\n",
       "      <td>410.0</td>\n",
       "      <td>1546.0</td>\n",
       "      <td>0</td>\n",
       "      <td>...</td>\n",
       "      <td>0</td>\n",
       "      <td>0</td>\n",
       "      <td>0</td>\n",
       "      <td>0</td>\n",
       "      <td>1</td>\n",
       "      <td>0</td>\n",
       "      <td>0</td>\n",
       "      <td>0</td>\n",
       "      <td>1</td>\n",
       "      <td>0</td>\n",
       "    </tr>\n",
       "    <tr>\n",
       "      <th>28</th>\n",
       "      <td>28269.0</td>\n",
       "      <td>2</td>\n",
       "      <td>sales</td>\n",
       "      <td>9</td>\n",
       "      <td>153000.0</td>\n",
       "      <td>2011-08-29</td>\n",
       "      <td>2012-08-03</td>\n",
       "      <td>340.0</td>\n",
       "      <td>1567.0</td>\n",
       "      <td>0</td>\n",
       "      <td>...</td>\n",
       "      <td>0</td>\n",
       "      <td>0</td>\n",
       "      <td>0</td>\n",
       "      <td>1</td>\n",
       "      <td>0</td>\n",
       "      <td>0</td>\n",
       "      <td>0</td>\n",
       "      <td>0</td>\n",
       "      <td>1</td>\n",
       "      <td>0</td>\n",
       "    </tr>\n",
       "  </tbody>\n",
       "</table>\n",
       "<p>5 rows × 38 columns</p>\n",
       "</div>"
      ],
      "text/plain": [
       "    employee_id  company_id              dept  seniority    salary  join_date  \\\n",
       "1      388804.0           8            design         21  191000.0 2011-05-17   \n",
       "11     838072.0           3      data_science         13  162000.0 2011-10-03   \n",
       "12     205557.0           8  customer_service         17  109000.0 2013-07-22   \n",
       "23     182278.0           1             sales         19  179000.0 2011-09-19   \n",
       "28      28269.0           2             sales          9  153000.0 2011-08-29   \n",
       "\n",
       "    quit_date   diff  diff_NQD  churn  ... 11 12  beginner  intermediate  \\\n",
       "1  2012-03-16  304.0    1671.0      0  ...  0  0         0             0   \n",
       "11 2012-08-10  312.0    1532.0      0  ...  0  0         0             1   \n",
       "12 2014-07-18  361.0     874.0      0  ...  0  0         0             0   \n",
       "23 2012-11-02  410.0    1546.0      0  ...  0  0         0             0   \n",
       "28 2012-08-03  340.0    1567.0      0  ...  0  0         0             1   \n",
       "\n",
       "    expert  master  low  med  high  really_high  \n",
       "1        1       0    0    0     0            1  \n",
       "11       0       0    0    0     1            0  \n",
       "12       1       0    0    1     0            0  \n",
       "23       1       0    0    0     1            0  \n",
       "28       0       0    0    0     1            0  \n",
       "\n",
       "[5 rows x 38 columns]"
      ]
     },
     "execution_count": 241,
     "metadata": {},
     "output_type": "execute_result"
    }
   ],
   "source": [
    "sample.head()"
   ]
  },
  {
   "cell_type": "code",
   "execution_count": 346,
   "metadata": {},
   "outputs": [],
   "source": [
    "#1,sales,low,beginner \n",
    "from sklearn.model_selection import train_test_split\n",
    "X = sample[['low','really_high','high','med','beginner','master','expert','intermediate','customer_service','data_science','design','engineer','marketing','sales']]\n",
    "y = sample['churn']"
   ]
  },
  {
   "cell_type": "code",
   "execution_count": 347,
   "metadata": {},
   "outputs": [],
   "source": [
    "# Resampling the minority class of conversion (i.e., first run through led to difficulties with convergence and funky outputs). \n",
    "from imblearn.over_sampling import RandomOverSampler # Using naive random sampler as it seemed the simplest and I was most comfortable with the process\n",
    "ros = RandomOverSampler(random_state=0)\n",
    "X_resampled, y_resampled = ros.fit_resample(X, y)"
   ]
  },
  {
   "cell_type": "code",
   "execution_count": 348,
   "metadata": {},
   "outputs": [],
   "source": [
    "X_train, X_test, y_train, y_test = train_test_split(X_resampled, y_resampled, test_size=0.3, random_state=101)"
   ]
  },
  {
   "cell_type": "code",
   "execution_count": 349,
   "metadata": {},
   "outputs": [
    {
     "data": {
      "text/plain": [
       "RandomForestClassifier(bootstrap=True, ccp_alpha=0.0, class_weight=None,\n",
       "                       criterion='gini', max_depth=100, max_features='auto',\n",
       "                       max_leaf_nodes=None, max_samples=None,\n",
       "                       min_impurity_decrease=0.0, min_impurity_split=None,\n",
       "                       min_samples_leaf=1, min_samples_split=2,\n",
       "                       min_weight_fraction_leaf=0.0, n_estimators=14,\n",
       "                       n_jobs=None, oob_score=False, random_state=None,\n",
       "                       verbose=0, warm_start=False)"
      ]
     },
     "execution_count": 349,
     "metadata": {},
     "output_type": "execute_result"
    },
    {
     "name": "stdout",
     "output_type": "stream",
     "text": [
      "Accuracy: 0.5668\n",
      "Precision: 0.5625\n",
      "Recall: 0.5809\n",
      "ROC_AUC:, 0.5669\n",
      "F1: 0.5716\n"
     ]
    },
    {
     "data": {
      "image/png": "[encoded data removed]",
      "text/plain": [
       "<Figure size 432x288 with 2 Axes>"
      ]
     },
     "metadata": {},
     "output_type": "display_data"
    }
   ],
   "source": [
    "classifier = RandomForestClassifier(n_estimators=14, max_depth=100)\n",
    "classifier.fit(X_train, y_train)\n",
    "pred_train= classifier.predict(X_train)\n",
    "pred_test= classifier.predict(X_test)\n",
    "acc_val = metrics.accuracy_score(y_test, pred_test)\n",
    "f1_val = f1_score(y_test, pred_test)\n",
    "bin_metrics(y_test, pred_test)\n",
    "plot_cm(y_test, pred_test)"
   ]
  },
  {
   "cell_type": "code",
   "execution_count": 350,
   "metadata": {},
   "outputs": [
    {
     "name": "stdout",
     "output_type": "stream",
     "text": [
      "                  importance\n",
      "high                0.171829\n",
      "really_high         0.122787\n",
      "engineer            0.094593\n",
      "low                 0.086070\n",
      "intermediate        0.078640\n",
      "med                 0.072825\n",
      "expert              0.070583\n",
      "beginner            0.065435\n",
      "customer_service    0.044960\n",
      "master              0.044923\n",
      "data_science        0.043774\n",
      "marketing           0.042974\n",
      "sales               0.034495\n",
      "design              0.026111\n"
     ]
    }
   ],
   "source": [
    "feature_importances = pd.DataFrame(classifier.feature_importances_, index = X_train.columns, \n",
    "                                   columns=['importance']).sort_values('importance', ascending=False)\n",
    "print(feature_importances.head(14))"
   ]
  },
  {
   "cell_type": "markdown",
   "metadata": {},
   "source": [
    "# End of Data Challenge"
   ]
  },
  {
   "cell_type": "code",
   "execution_count": null,
   "metadata": {},
   "outputs": [],
   "source": [
    "#model = ols('churn ~ C(dept)*C(seniority)*C(salary)*C(company_id)',modER_sub).fit()\n",
    "\n",
    "#print(f\"Overall model F({model.df_model: .0f},{model.df_resid: .0f}) = {model.fvalue: .3f}, p = {model.f_pvalue: .4f}\")"
   ]
  },
  {
   "cell_type": "code",
   "execution_count": null,
   "metadata": {},
   "outputs": [],
   "source": []
  },
  {
   "cell_type": "code",
   "execution_count": 306,
   "metadata": {},
   "outputs": [
    {
     "name": "stdout",
     "output_type": "stream",
     "text": [
      "Overall model F( 11, 12250) =  1.883, p =  0.0365\n"
     ]
    }
   ],
   "source": [
    "model = ols('churn ~ C(company_id)',sample).fit()\n",
    "print(f\"Overall model F({model.df_model: .0f},{model.df_resid: .0f}) = {model.fvalue: .3f}, p = {model.f_pvalue: .4f}\")"
   ]
  },
  {
   "cell_type": "code",
   "execution_count": 307,
   "metadata": {},
   "outputs": [
    {
     "data": {
      "text/html": [
       "<table class=\"simpletable\">\n",
       "<caption>OLS Regression Results</caption>\n",
       "<tr>\n",
       "  <th>Dep. Variable:</th>          <td>churn</td>      <th>  R-squared:         </th> <td>   0.002</td> \n",
       "</tr>\n",
       "<tr>\n",
       "  <th>Model:</th>                   <td>OLS</td>       <th>  Adj. R-squared:    </th> <td>   0.001</td> \n",
       "</tr>\n",
       "<tr>\n",
       "  <th>Method:</th>             <td>Least Squares</td>  <th>  F-statistic:       </th> <td>   1.883</td> \n",
       "</tr>\n",
       "<tr>\n",
       "  <th>Date:</th>             <td>Thu, 20 Feb 2020</td> <th>  Prob (F-statistic):</th>  <td>0.0365</td>  \n",
       "</tr>\n",
       "<tr>\n",
       "  <th>Time:</th>                 <td>12:43:00</td>     <th>  Log-Likelihood:    </th> <td> -8674.7</td> \n",
       "</tr>\n",
       "<tr>\n",
       "  <th>No. Observations:</th>      <td> 12262</td>      <th>  AIC:               </th> <td>1.737e+04</td>\n",
       "</tr>\n",
       "<tr>\n",
       "  <th>Df Residuals:</th>          <td> 12250</td>      <th>  BIC:               </th> <td>1.746e+04</td>\n",
       "</tr>\n",
       "<tr>\n",
       "  <th>Df Model:</th>              <td>    11</td>      <th>                     </th>     <td> </td>    \n",
       "</tr>\n",
       "<tr>\n",
       "  <th>Covariance Type:</th>      <td>nonrobust</td>    <th>                     </th>     <td> </td>    \n",
       "</tr>\n",
       "</table>\n",
       "<table class=\"simpletable\">\n",
       "<tr>\n",
       "           <td></td>              <th>coef</th>     <th>std err</th>      <th>t</th>      <th>P>|t|</th>  <th>[0.025</th>    <th>0.975]</th>  \n",
       "</tr>\n",
       "<tr>\n",
       "  <th>Intercept</th>           <td>    0.4155</td> <td>    0.008</td> <td>   55.106</td> <td> 0.000</td> <td>    0.401</td> <td>    0.430</td>\n",
       "</tr>\n",
       "<tr>\n",
       "  <th>C(company_id)[T.2]</th>  <td>    0.0231</td> <td>    0.013</td> <td>    1.748</td> <td> 0.080</td> <td>   -0.003</td> <td>    0.049</td>\n",
       "</tr>\n",
       "<tr>\n",
       "  <th>C(company_id)[T.3]</th>  <td>   -0.0351</td> <td>    0.015</td> <td>   -2.273</td> <td> 0.023</td> <td>   -0.065</td> <td>   -0.005</td>\n",
       "</tr>\n",
       "<tr>\n",
       "  <th>C(company_id)[T.4]</th>  <td>   -0.0360</td> <td>    0.017</td> <td>   -2.130</td> <td> 0.033</td> <td>   -0.069</td> <td>   -0.003</td>\n",
       "</tr>\n",
       "<tr>\n",
       "  <th>C(company_id)[T.5]</th>  <td>   -0.0220</td> <td>    0.018</td> <td>   -1.200</td> <td> 0.230</td> <td>   -0.058</td> <td>    0.014</td>\n",
       "</tr>\n",
       "<tr>\n",
       "  <th>C(company_id)[T.6]</th>  <td>   -0.0106</td> <td>    0.021</td> <td>   -0.513</td> <td> 0.608</td> <td>   -0.051</td> <td>    0.030</td>\n",
       "</tr>\n",
       "<tr>\n",
       "  <th>C(company_id)[T.7]</th>  <td>   -0.0030</td> <td>    0.021</td> <td>   -0.142</td> <td> 0.887</td> <td>   -0.044</td> <td>    0.038</td>\n",
       "</tr>\n",
       "<tr>\n",
       "  <th>C(company_id)[T.8]</th>  <td>   -0.0316</td> <td>    0.023</td> <td>   -1.402</td> <td> 0.161</td> <td>   -0.076</td> <td>    0.013</td>\n",
       "</tr>\n",
       "<tr>\n",
       "  <th>C(company_id)[T.9]</th>  <td>   -0.0159</td> <td>    0.024</td> <td>   -0.663</td> <td> 0.507</td> <td>   -0.063</td> <td>    0.031</td>\n",
       "</tr>\n",
       "<tr>\n",
       "  <th>C(company_id)[T.10]</th> <td>   -0.0282</td> <td>    0.025</td> <td>   -1.129</td> <td> 0.259</td> <td>   -0.077</td> <td>    0.021</td>\n",
       "</tr>\n",
       "<tr>\n",
       "  <th>C(company_id)[T.11]</th> <td>   -0.1155</td> <td>    0.155</td> <td>   -0.743</td> <td> 0.458</td> <td>   -0.420</td> <td>    0.189</td>\n",
       "</tr>\n",
       "<tr>\n",
       "  <th>C(company_id)[T.12]</th> <td>    0.0845</td> <td>    0.123</td> <td>    0.687</td> <td> 0.492</td> <td>   -0.157</td> <td>    0.326</td>\n",
       "</tr>\n",
       "</table>\n",
       "<table class=\"simpletable\">\n",
       "<tr>\n",
       "  <th>Omnibus:</th>       <td>46618.883</td> <th>  Durbin-Watson:     </th> <td>   0.004</td>\n",
       "</tr>\n",
       "<tr>\n",
       "  <th>Prob(Omnibus):</th>  <td> 0.000</td>   <th>  Jarque-Bera (JB):  </th> <td>2040.684</td>\n",
       "</tr>\n",
       "<tr>\n",
       "  <th>Skew:</th>           <td> 0.376</td>   <th>  Prob(JB):          </th> <td>    0.00</td>\n",
       "</tr>\n",
       "<tr>\n",
       "  <th>Kurtosis:</th>       <td> 1.149</td>   <th>  Cond. No.          </th> <td>    36.2</td>\n",
       "</tr>\n",
       "</table><br/><br/>Warnings:<br/>[1] Standard Errors assume that the covariance matrix of the errors is correctly specified."
      ],
      "text/plain": [
       "<class 'statsmodels.iolib.summary.Summary'>\n",
       "\"\"\"\n",
       "                            OLS Regression Results                            \n",
       "==============================================================================\n",
       "Dep. Variable:                  churn   R-squared:                       0.002\n",
       "Model:                            OLS   Adj. R-squared:                  0.001\n",
       "Method:                 Least Squares   F-statistic:                     1.883\n",
       "Date:                Thu, 20 Feb 2020   Prob (F-statistic):             0.0365\n",
       "Time:                        12:43:00   Log-Likelihood:                -8674.7\n",
       "No. Observations:               12262   AIC:                         1.737e+04\n",
       "Df Residuals:                   12250   BIC:                         1.746e+04\n",
       "Df Model:                          11                                         \n",
       "Covariance Type:            nonrobust                                         \n",
       "=======================================================================================\n",
       "                          coef    std err          t      P>|t|      [0.025      0.975]\n",
       "---------------------------------------------------------------------------------------\n",
       "Intercept               0.4155      0.008     55.106      0.000       0.401       0.430\n",
       "C(company_id)[T.2]      0.0231      0.013      1.748      0.080      -0.003       0.049\n",
       "C(company_id)[T.3]     -0.0351      0.015     -2.273      0.023      -0.065      -0.005\n",
       "C(company_id)[T.4]     -0.0360      0.017     -2.130      0.033      -0.069      -0.003\n",
       "C(company_id)[T.5]     -0.0220      0.018     -1.200      0.230      -0.058       0.014\n",
       "C(company_id)[T.6]     -0.0106      0.021     -0.513      0.608      -0.051       0.030\n",
       "C(company_id)[T.7]     -0.0030      0.021     -0.142      0.887      -0.044       0.038\n",
       "C(company_id)[T.8]     -0.0316      0.023     -1.402      0.161      -0.076       0.013\n",
       "C(company_id)[T.9]     -0.0159      0.024     -0.663      0.507      -0.063       0.031\n",
       "C(company_id)[T.10]    -0.0282      0.025     -1.129      0.259      -0.077       0.021\n",
       "C(company_id)[T.11]    -0.1155      0.155     -0.743      0.458      -0.420       0.189\n",
       "C(company_id)[T.12]     0.0845      0.123      0.687      0.492      -0.157       0.326\n",
       "==============================================================================\n",
       "Omnibus:                    46618.883   Durbin-Watson:                   0.004\n",
       "Prob(Omnibus):                  0.000   Jarque-Bera (JB):             2040.684\n",
       "Skew:                           0.376   Prob(JB):                         0.00\n",
       "Kurtosis:                       1.149   Cond. No.                         36.2\n",
       "==============================================================================\n",
       "\n",
       "Warnings:\n",
       "[1] Standard Errors assume that the covariance matrix of the errors is correctly specified.\n",
       "\"\"\""
      ]
     },
     "execution_count": 307,
     "metadata": {},
     "output_type": "execute_result"
    }
   ],
   "source": [
    "model.summary()"
   ]
  },
  {
   "cell_type": "code",
   "execution_count": null,
   "metadata": {},
   "outputs": [],
   "source": []
  },
  {
   "cell_type": "code",
   "execution_count": null,
   "metadata": {},
   "outputs": [],
   "source": []
  },
  {
   "cell_type": "code",
   "execution_count": 308,
   "metadata": {},
   "outputs": [
    {
     "name": "stdout",
     "output_type": "stream",
     "text": [
      "Overall model F( 3, 12256) =  96.390, p =  0.0000\n"
     ]
    }
   ],
   "source": [
    "model = ols('churn ~ C(salary_group)',sample).fit()\n",
    "print(f\"Overall model F({model.df_model: .0f},{model.df_resid: .0f}) = {model.fvalue: .3f}, p = {model.f_pvalue: .4f}\")"
   ]
  },
  {
   "cell_type": "code",
   "execution_count": 309,
   "metadata": {},
   "outputs": [
    {
     "data": {
      "text/html": [
       "<table class=\"simpletable\">\n",
       "<caption>OLS Regression Results</caption>\n",
       "<tr>\n",
       "  <th>Dep. Variable:</th>          <td>churn</td>      <th>  R-squared:         </th> <td>   0.023</td> \n",
       "</tr>\n",
       "<tr>\n",
       "  <th>Model:</th>                   <td>OLS</td>       <th>  Adj. R-squared:    </th> <td>   0.023</td> \n",
       "</tr>\n",
       "<tr>\n",
       "  <th>Method:</th>             <td>Least Squares</td>  <th>  F-statistic:       </th> <td>   96.39</td> \n",
       "</tr>\n",
       "<tr>\n",
       "  <th>Date:</th>             <td>Thu, 20 Feb 2020</td> <th>  Prob (F-statistic):</th> <td>1.16e-61</td> \n",
       "</tr>\n",
       "<tr>\n",
       "  <th>Time:</th>                 <td>12:43:08</td>     <th>  Log-Likelihood:    </th> <td> -8540.6</td> \n",
       "</tr>\n",
       "<tr>\n",
       "  <th>No. Observations:</th>      <td> 12260</td>      <th>  AIC:               </th> <td>1.709e+04</td>\n",
       "</tr>\n",
       "<tr>\n",
       "  <th>Df Residuals:</th>          <td> 12256</td>      <th>  BIC:               </th> <td>1.712e+04</td>\n",
       "</tr>\n",
       "<tr>\n",
       "  <th>Df Model:</th>              <td>     3</td>      <th>                     </th>     <td> </td>    \n",
       "</tr>\n",
       "<tr>\n",
       "  <th>Covariance Type:</th>      <td>nonrobust</td>    <th>                     </th>     <td> </td>    \n",
       "</tr>\n",
       "</table>\n",
       "<table class=\"simpletable\">\n",
       "<tr>\n",
       "                 <td></td>                   <th>coef</th>     <th>std err</th>      <th>t</th>      <th>P>|t|</th>  <th>[0.025</th>    <th>0.975]</th>  \n",
       "</tr>\n",
       "<tr>\n",
       "  <th>Intercept</th>                      <td>    0.4482</td> <td>    0.009</td> <td>   50.739</td> <td> 0.000</td> <td>    0.431</td> <td>    0.466</td>\n",
       "</tr>\n",
       "<tr>\n",
       "  <th>C(salary_group)[T.med]</th>         <td>   -0.0949</td> <td>    0.012</td> <td>   -7.667</td> <td> 0.000</td> <td>   -0.119</td> <td>   -0.071</td>\n",
       "</tr>\n",
       "<tr>\n",
       "  <th>C(salary_group)[T.high]</th>        <td>   -0.1255</td> <td>    0.012</td> <td>  -10.118</td> <td> 0.000</td> <td>   -0.150</td> <td>   -0.101</td>\n",
       "</tr>\n",
       "<tr>\n",
       "  <th>C(salary_group)[T.really_high]</th> <td>    0.0621</td> <td>    0.013</td> <td>    4.960</td> <td> 0.000</td> <td>    0.038</td> <td>    0.087</td>\n",
       "</tr>\n",
       "</table>\n",
       "<table class=\"simpletable\">\n",
       "<tr>\n",
       "  <th>Omnibus:</th>       <td>49857.001</td> <th>  Durbin-Watson:     </th> <td>   0.046</td>\n",
       "</tr>\n",
       "<tr>\n",
       "  <th>Prob(Omnibus):</th>  <td> 0.000</td>   <th>  Jarque-Bera (JB):  </th> <td>1871.418</td>\n",
       "</tr>\n",
       "<tr>\n",
       "  <th>Skew:</th>           <td> 0.366</td>   <th>  Prob(JB):          </th> <td>    0.00</td>\n",
       "</tr>\n",
       "<tr>\n",
       "  <th>Kurtosis:</th>       <td> 1.231</td>   <th>  Cond. No.          </th> <td>    4.82</td>\n",
       "</tr>\n",
       "</table><br/><br/>Warnings:<br/>[1] Standard Errors assume that the covariance matrix of the errors is correctly specified."
      ],
      "text/plain": [
       "<class 'statsmodels.iolib.summary.Summary'>\n",
       "\"\"\"\n",
       "                            OLS Regression Results                            \n",
       "==============================================================================\n",
       "Dep. Variable:                  churn   R-squared:                       0.023\n",
       "Model:                            OLS   Adj. R-squared:                  0.023\n",
       "Method:                 Least Squares   F-statistic:                     96.39\n",
       "Date:                Thu, 20 Feb 2020   Prob (F-statistic):           1.16e-61\n",
       "Time:                        12:43:08   Log-Likelihood:                -8540.6\n",
       "No. Observations:               12260   AIC:                         1.709e+04\n",
       "Df Residuals:                   12256   BIC:                         1.712e+04\n",
       "Df Model:                           3                                         \n",
       "Covariance Type:            nonrobust                                         \n",
       "==================================================================================================\n",
       "                                     coef    std err          t      P>|t|      [0.025      0.975]\n",
       "--------------------------------------------------------------------------------------------------\n",
       "Intercept                          0.4482      0.009     50.739      0.000       0.431       0.466\n",
       "C(salary_group)[T.med]            -0.0949      0.012     -7.667      0.000      -0.119      -0.071\n",
       "C(salary_group)[T.high]           -0.1255      0.012    -10.118      0.000      -0.150      -0.101\n",
       "C(salary_group)[T.really_high]     0.0621      0.013      4.960      0.000       0.038       0.087\n",
       "==============================================================================\n",
       "Omnibus:                    49857.001   Durbin-Watson:                   0.046\n",
       "Prob(Omnibus):                  0.000   Jarque-Bera (JB):             1871.418\n",
       "Skew:                           0.366   Prob(JB):                         0.00\n",
       "Kurtosis:                       1.231   Cond. No.                         4.82\n",
       "==============================================================================\n",
       "\n",
       "Warnings:\n",
       "[1] Standard Errors assume that the covariance matrix of the errors is correctly specified.\n",
       "\"\"\""
      ]
     },
     "execution_count": 309,
     "metadata": {},
     "output_type": "execute_result"
    }
   ],
   "source": [
    "model.summary()"
   ]
  },
  {
   "cell_type": "code",
   "execution_count": null,
   "metadata": {},
   "outputs": [],
   "source": []
  },
  {
   "cell_type": "code",
   "execution_count": 310,
   "metadata": {},
   "outputs": [
    {
     "name": "stdout",
     "output_type": "stream",
     "text": [
      "Overall model F( 5, 12256) =  19.685, p =  0.0000\n"
     ]
    }
   ],
   "source": [
    "model = ols('churn ~ C(dept)',sample).fit()\n",
    "print(f\"Overall model F({model.df_model: .0f},{model.df_resid: .0f}) = {model.fvalue: .3f}, p = {model.f_pvalue: .4f}\")"
   ]
  },
  {
   "cell_type": "code",
   "execution_count": 311,
   "metadata": {},
   "outputs": [
    {
     "data": {
      "text/html": [
       "<table class=\"simpletable\">\n",
       "<caption>OLS Regression Results</caption>\n",
       "<tr>\n",
       "  <th>Dep. Variable:</th>          <td>churn</td>      <th>  R-squared:         </th> <td>   0.008</td> \n",
       "</tr>\n",
       "<tr>\n",
       "  <th>Model:</th>                   <td>OLS</td>       <th>  Adj. R-squared:    </th> <td>   0.008</td> \n",
       "</tr>\n",
       "<tr>\n",
       "  <th>Method:</th>             <td>Least Squares</td>  <th>  F-statistic:       </th> <td>   19.69</td> \n",
       "</tr>\n",
       "<tr>\n",
       "  <th>Date:</th>             <td>Thu, 20 Feb 2020</td> <th>  Prob (F-statistic):</th> <td>1.36e-19</td> \n",
       "</tr>\n",
       "<tr>\n",
       "  <th>Time:</th>                 <td>12:43:14</td>     <th>  Log-Likelihood:    </th> <td> -8636.0</td> \n",
       "</tr>\n",
       "<tr>\n",
       "  <th>No. Observations:</th>      <td> 12262</td>      <th>  AIC:               </th> <td>1.728e+04</td>\n",
       "</tr>\n",
       "<tr>\n",
       "  <th>Df Residuals:</th>          <td> 12256</td>      <th>  BIC:               </th> <td>1.733e+04</td>\n",
       "</tr>\n",
       "<tr>\n",
       "  <th>Df Model:</th>              <td>     5</td>      <th>                     </th>     <td> </td>    \n",
       "</tr>\n",
       "<tr>\n",
       "  <th>Covariance Type:</th>      <td>nonrobust</td>    <th>                     </th>     <td> </td>    \n",
       "</tr>\n",
       "</table>\n",
       "<table class=\"simpletable\">\n",
       "<tr>\n",
       "             <td></td>                <th>coef</th>     <th>std err</th>      <th>t</th>      <th>P>|t|</th>  <th>[0.025</th>    <th>0.975]</th>  \n",
       "</tr>\n",
       "<tr>\n",
       "  <th>Intercept</th>               <td>    0.3837</td> <td>    0.007</td> <td>   52.805</td> <td> 0.000</td> <td>    0.369</td> <td>    0.398</td>\n",
       "</tr>\n",
       "<tr>\n",
       "  <th>C(dept)[T.data_science]</th> <td>    0.0717</td> <td>    0.014</td> <td>    5.008</td> <td> 0.000</td> <td>    0.044</td> <td>    0.100</td>\n",
       "</tr>\n",
       "<tr>\n",
       "  <th>C(dept)[T.design]</th>       <td>    0.0168</td> <td>    0.020</td> <td>    0.849</td> <td> 0.396</td> <td>   -0.022</td> <td>    0.056</td>\n",
       "</tr>\n",
       "<tr>\n",
       "  <th>C(dept)[T.engineer]</th>     <td>    0.0968</td> <td>    0.013</td> <td>    7.677</td> <td> 0.000</td> <td>    0.072</td> <td>    0.121</td>\n",
       "</tr>\n",
       "<tr>\n",
       "  <th>C(dept)[T.marketing]</th>    <td>   -0.0154</td> <td>    0.014</td> <td>   -1.066</td> <td> 0.286</td> <td>   -0.044</td> <td>    0.013</td>\n",
       "</tr>\n",
       "<tr>\n",
       "  <th>C(dept)[T.sales]</th>        <td>   -0.0187</td> <td>    0.014</td> <td>   -1.326</td> <td> 0.185</td> <td>   -0.046</td> <td>    0.009</td>\n",
       "</tr>\n",
       "</table>\n",
       "<table class=\"simpletable\">\n",
       "<tr>\n",
       "  <th>Omnibus:</th>       <td>47502.335</td> <th>  Durbin-Watson:     </th> <td>   0.016</td>\n",
       "</tr>\n",
       "<tr>\n",
       "  <th>Prob(Omnibus):</th>  <td> 0.000</td>   <th>  Jarque-Bera (JB):  </th> <td>1990.549</td>\n",
       "</tr>\n",
       "<tr>\n",
       "  <th>Skew:</th>           <td> 0.374</td>   <th>  Prob(JB):          </th> <td>    0.00</td>\n",
       "</tr>\n",
       "<tr>\n",
       "  <th>Kurtosis:</th>       <td> 1.173</td>   <th>  Cond. No.          </th> <td>    5.32</td>\n",
       "</tr>\n",
       "</table><br/><br/>Warnings:<br/>[1] Standard Errors assume that the covariance matrix of the errors is correctly specified."
      ],
      "text/plain": [
       "<class 'statsmodels.iolib.summary.Summary'>\n",
       "\"\"\"\n",
       "                            OLS Regression Results                            \n",
       "==============================================================================\n",
       "Dep. Variable:                  churn   R-squared:                       0.008\n",
       "Model:                            OLS   Adj. R-squared:                  0.008\n",
       "Method:                 Least Squares   F-statistic:                     19.69\n",
       "Date:                Thu, 20 Feb 2020   Prob (F-statistic):           1.36e-19\n",
       "Time:                        12:43:14   Log-Likelihood:                -8636.0\n",
       "No. Observations:               12262   AIC:                         1.728e+04\n",
       "Df Residuals:                   12256   BIC:                         1.733e+04\n",
       "Df Model:                           5                                         \n",
       "Covariance Type:            nonrobust                                         \n",
       "===========================================================================================\n",
       "                              coef    std err          t      P>|t|      [0.025      0.975]\n",
       "-------------------------------------------------------------------------------------------\n",
       "Intercept                   0.3837      0.007     52.805      0.000       0.369       0.398\n",
       "C(dept)[T.data_science]     0.0717      0.014      5.008      0.000       0.044       0.100\n",
       "C(dept)[T.design]           0.0168      0.020      0.849      0.396      -0.022       0.056\n",
       "C(dept)[T.engineer]         0.0968      0.013      7.677      0.000       0.072       0.121\n",
       "C(dept)[T.marketing]       -0.0154      0.014     -1.066      0.286      -0.044       0.013\n",
       "C(dept)[T.sales]           -0.0187      0.014     -1.326      0.185      -0.046       0.009\n",
       "==============================================================================\n",
       "Omnibus:                    47502.335   Durbin-Watson:                   0.016\n",
       "Prob(Omnibus):                  0.000   Jarque-Bera (JB):             1990.549\n",
       "Skew:                           0.374   Prob(JB):                         0.00\n",
       "Kurtosis:                       1.173   Cond. No.                         5.32\n",
       "==============================================================================\n",
       "\n",
       "Warnings:\n",
       "[1] Standard Errors assume that the covariance matrix of the errors is correctly specified.\n",
       "\"\"\""
      ]
     },
     "execution_count": 311,
     "metadata": {},
     "output_type": "execute_result"
    }
   ],
   "source": [
    "model.summary()"
   ]
  },
  {
   "cell_type": "code",
   "execution_count": null,
   "metadata": {},
   "outputs": [],
   "source": []
  },
  {
   "cell_type": "code",
   "execution_count": 312,
   "metadata": {},
   "outputs": [
    {
     "name": "stdout",
     "output_type": "stream",
     "text": [
      "Overall model F( 3, 11817) =  6.601, p =  0.0002\n"
     ]
    }
   ],
   "source": [
    "model = ols('churn ~ C(seniority_group)',sample).fit()\n",
    "print(f\"Overall model F({model.df_model: .0f},{model.df_resid: .0f}) = {model.fvalue: .3f}, p = {model.f_pvalue: .4f}\")"
   ]
  },
  {
   "cell_type": "code",
   "execution_count": 313,
   "metadata": {},
   "outputs": [
    {
     "data": {
      "text/html": [
       "<table class=\"simpletable\">\n",
       "<caption>OLS Regression Results</caption>\n",
       "<tr>\n",
       "  <th>Dep. Variable:</th>          <td>churn</td>      <th>  R-squared:         </th> <td>   0.002</td> \n",
       "</tr>\n",
       "<tr>\n",
       "  <th>Model:</th>                   <td>OLS</td>       <th>  Adj. R-squared:    </th> <td>   0.001</td> \n",
       "</tr>\n",
       "<tr>\n",
       "  <th>Method:</th>             <td>Least Squares</td>  <th>  F-statistic:       </th> <td>   6.601</td> \n",
       "</tr>\n",
       "<tr>\n",
       "  <th>Date:</th>             <td>Thu, 20 Feb 2020</td> <th>  Prob (F-statistic):</th> <td>0.000188</td> \n",
       "</tr>\n",
       "<tr>\n",
       "  <th>Time:</th>                 <td>12:43:19</td>     <th>  Log-Likelihood:    </th> <td> -8349.0</td> \n",
       "</tr>\n",
       "<tr>\n",
       "  <th>No. Observations:</th>      <td> 11821</td>      <th>  AIC:               </th> <td>1.671e+04</td>\n",
       "</tr>\n",
       "<tr>\n",
       "  <th>Df Residuals:</th>          <td> 11817</td>      <th>  BIC:               </th> <td>1.674e+04</td>\n",
       "</tr>\n",
       "<tr>\n",
       "  <th>Df Model:</th>              <td>     3</td>      <th>                     </th>     <td> </td>    \n",
       "</tr>\n",
       "<tr>\n",
       "  <th>Covariance Type:</th>      <td>nonrobust</td>    <th>                     </th>     <td> </td>    \n",
       "</tr>\n",
       "</table>\n",
       "<table class=\"simpletable\">\n",
       "<tr>\n",
       "                   <td></td>                     <th>coef</th>     <th>std err</th>      <th>t</th>      <th>P>|t|</th>  <th>[0.025</th>    <th>0.975]</th>  \n",
       "</tr>\n",
       "<tr>\n",
       "  <th>Intercept</th>                          <td>    0.4139</td> <td>    0.009</td> <td>   44.099</td> <td> 0.000</td> <td>    0.396</td> <td>    0.432</td>\n",
       "</tr>\n",
       "<tr>\n",
       "  <th>C(seniority_group)[T.intermediate]</th> <td>   -0.0419</td> <td>    0.013</td> <td>   -3.300</td> <td> 0.001</td> <td>   -0.067</td> <td>   -0.017</td>\n",
       "</tr>\n",
       "<tr>\n",
       "  <th>C(seniority_group)[T.expert]</th>       <td>    0.0049</td> <td>    0.013</td> <td>    0.377</td> <td> 0.706</td> <td>   -0.020</td> <td>    0.030</td>\n",
       "</tr>\n",
       "<tr>\n",
       "  <th>C(seniority_group)[T.master]</th>       <td>    0.0031</td> <td>    0.013</td> <td>    0.235</td> <td> 0.814</td> <td>   -0.023</td> <td>    0.029</td>\n",
       "</tr>\n",
       "</table>\n",
       "<table class=\"simpletable\">\n",
       "<tr>\n",
       "  <th>Omnibus:</th>       <td>45294.707</td> <th>  Durbin-Watson:     </th> <td>   0.004</td>\n",
       "</tr>\n",
       "<tr>\n",
       "  <th>Prob(Omnibus):</th>  <td> 0.000</td>   <th>  Jarque-Bera (JB):  </th> <td>1968.906</td>\n",
       "</tr>\n",
       "<tr>\n",
       "  <th>Skew:</th>           <td> 0.389</td>   <th>  Prob(JB):          </th> <td>    0.00</td>\n",
       "</tr>\n",
       "<tr>\n",
       "  <th>Kurtosis:</th>       <td> 1.158</td>   <th>  Cond. No.          </th> <td>    4.97</td>\n",
       "</tr>\n",
       "</table><br/><br/>Warnings:<br/>[1] Standard Errors assume that the covariance matrix of the errors is correctly specified."
      ],
      "text/plain": [
       "<class 'statsmodels.iolib.summary.Summary'>\n",
       "\"\"\"\n",
       "                            OLS Regression Results                            \n",
       "==============================================================================\n",
       "Dep. Variable:                  churn   R-squared:                       0.002\n",
       "Model:                            OLS   Adj. R-squared:                  0.001\n",
       "Method:                 Least Squares   F-statistic:                     6.601\n",
       "Date:                Thu, 20 Feb 2020   Prob (F-statistic):           0.000188\n",
       "Time:                        12:43:19   Log-Likelihood:                -8349.0\n",
       "No. Observations:               11821   AIC:                         1.671e+04\n",
       "Df Residuals:                   11817   BIC:                         1.674e+04\n",
       "Df Model:                           3                                         \n",
       "Covariance Type:            nonrobust                                         \n",
       "======================================================================================================\n",
       "                                         coef    std err          t      P>|t|      [0.025      0.975]\n",
       "------------------------------------------------------------------------------------------------------\n",
       "Intercept                              0.4139      0.009     44.099      0.000       0.396       0.432\n",
       "C(seniority_group)[T.intermediate]    -0.0419      0.013     -3.300      0.001      -0.067      -0.017\n",
       "C(seniority_group)[T.expert]           0.0049      0.013      0.377      0.706      -0.020       0.030\n",
       "C(seniority_group)[T.master]           0.0031      0.013      0.235      0.814      -0.023       0.029\n",
       "==============================================================================\n",
       "Omnibus:                    45294.707   Durbin-Watson:                   0.004\n",
       "Prob(Omnibus):                  0.000   Jarque-Bera (JB):             1968.906\n",
       "Skew:                           0.389   Prob(JB):                         0.00\n",
       "Kurtosis:                       1.158   Cond. No.                         4.97\n",
       "==============================================================================\n",
       "\n",
       "Warnings:\n",
       "[1] Standard Errors assume that the covariance matrix of the errors is correctly specified.\n",
       "\"\"\""
      ]
     },
     "execution_count": 313,
     "metadata": {},
     "output_type": "execute_result"
    }
   ],
   "source": [
    "model.summary()"
   ]
  },
  {
   "cell_type": "code",
   "execution_count": null,
   "metadata": {},
   "outputs": [],
   "source": []
  },
  {
   "cell_type": "markdown",
   "metadata": {},
   "source": [
    "## The variables that seen to drive employee churn are department, salary and years of experience. \n",
    "\n",
    "1) employees who are hired with 7-14 years of experience are more likely to leave after a year \n",
    "\n",
    "2) employees in data science and the enginearing department are more likely to stay past the one year mark \n",
    "\n",
    "3) employees who make the most and least amount of money are more likely to stay longer than a year\n",
    " \n",
    "## Reasons for these trends:\n",
    "\n",
    "1) Employees who have the least and most experience are more likely to stay. Employees with less experience may not have the qualifications to find \"better\" job. Employees with more experience are more likely to stay as they are in a more mature state in there carree.\n",
    "\n",
    "2) The departments where people are more likely to stay also pay more compared to other departments. This could be a reason for longer retention.\n",
    "\n",
    "3) Employees who make more money have more insentive to stay while those who make slightly less may be able to find higher salaries at different companies. "
   ]
  },
  {
   "cell_type": "code",
   "execution_count": 252,
   "metadata": {},
   "outputs": [
    {
     "data": {
      "text/html": [
       "<div>\n",
       "<style scoped>\n",
       "    .dataframe tbody tr th:only-of-type {\n",
       "        vertical-align: middle;\n",
       "    }\n",
       "\n",
       "    .dataframe tbody tr th {\n",
       "        vertical-align: top;\n",
       "    }\n",
       "\n",
       "    .dataframe thead th {\n",
       "        text-align: right;\n",
       "    }\n",
       "</style>\n",
       "<table border=\"1\" class=\"dataframe\">\n",
       "  <thead>\n",
       "    <tr style=\"text-align: right;\">\n",
       "      <th></th>\n",
       "      <th>employee_id</th>\n",
       "      <th>company_id</th>\n",
       "      <th>seniority</th>\n",
       "      <th>salary</th>\n",
       "      <th>diff</th>\n",
       "      <th>diff_NQD</th>\n",
       "      <th>churn</th>\n",
       "      <th>customer_service</th>\n",
       "      <th>data_science</th>\n",
       "      <th>design</th>\n",
       "      <th>...</th>\n",
       "      <th>11</th>\n",
       "      <th>12</th>\n",
       "      <th>beginner</th>\n",
       "      <th>intermediate</th>\n",
       "      <th>expert</th>\n",
       "      <th>master</th>\n",
       "      <th>low</th>\n",
       "      <th>med</th>\n",
       "      <th>high</th>\n",
       "      <th>really_high</th>\n",
       "    </tr>\n",
       "  </thead>\n",
       "  <tbody>\n",
       "    <tr>\n",
       "      <th>count</th>\n",
       "      <td>12262.000000</td>\n",
       "      <td>12262.000000</td>\n",
       "      <td>12262.000000</td>\n",
       "      <td>12262.000000</td>\n",
       "      <td>7268.000000</td>\n",
       "      <td>12262.000000</td>\n",
       "      <td>12262.000000</td>\n",
       "      <td>12262.000000</td>\n",
       "      <td>12262.000000</td>\n",
       "      <td>12262.000000</td>\n",
       "      <td>...</td>\n",
       "      <td>12262.000000</td>\n",
       "      <td>12262.000000</td>\n",
       "      <td>12262.000000</td>\n",
       "      <td>12262.000000</td>\n",
       "      <td>12262.000000</td>\n",
       "      <td>12262.000000</td>\n",
       "      <td>12262.000000</td>\n",
       "      <td>12262.000000</td>\n",
       "      <td>12262.000000</td>\n",
       "      <td>12262.000000</td>\n",
       "    </tr>\n",
       "    <tr>\n",
       "      <th>mean</th>\n",
       "      <td>499914.569401</td>\n",
       "      <td>3.435981</td>\n",
       "      <td>14.136601</td>\n",
       "      <td>137454.493557</td>\n",
       "      <td>363.238580</td>\n",
       "      <td>1000.215544</td>\n",
       "      <td>0.407275</td>\n",
       "      <td>0.370005</td>\n",
       "      <td>0.128201</td>\n",
       "      <td>0.057413</td>\n",
       "      <td>...</td>\n",
       "      <td>0.000816</td>\n",
       "      <td>0.001305</td>\n",
       "      <td>0.222639</td>\n",
       "      <td>0.267248</td>\n",
       "      <td>0.249062</td>\n",
       "      <td>0.225086</td>\n",
       "      <td>0.246534</td>\n",
       "      <td>0.255749</td>\n",
       "      <td>0.253711</td>\n",
       "      <td>0.243843</td>\n",
       "    </tr>\n",
       "    <tr>\n",
       "      <th>std</th>\n",
       "      <td>288904.668736</td>\n",
       "      <td>2.707309</td>\n",
       "      <td>8.073778</td>\n",
       "      <td>74744.895840</td>\n",
       "      <td>41.253068</td>\n",
       "      <td>376.134986</td>\n",
       "      <td>0.491347</td>\n",
       "      <td>0.482825</td>\n",
       "      <td>0.334327</td>\n",
       "      <td>0.232640</td>\n",
       "      <td>...</td>\n",
       "      <td>0.028547</td>\n",
       "      <td>0.036101</td>\n",
       "      <td>0.416035</td>\n",
       "      <td>0.442541</td>\n",
       "      <td>0.432488</td>\n",
       "      <td>0.417656</td>\n",
       "      <td>0.431011</td>\n",
       "      <td>0.436299</td>\n",
       "      <td>0.435152</td>\n",
       "      <td>0.429416</td>\n",
       "    </tr>\n",
       "    <tr>\n",
       "      <th>min</th>\n",
       "      <td>70.000000</td>\n",
       "      <td>1.000000</td>\n",
       "      <td>1.000000</td>\n",
       "      <td>17000.000000</td>\n",
       "      <td>102.000000</td>\n",
       "      <td>285.000000</td>\n",
       "      <td>0.000000</td>\n",
       "      <td>0.000000</td>\n",
       "      <td>0.000000</td>\n",
       "      <td>0.000000</td>\n",
       "      <td>...</td>\n",
       "      <td>0.000000</td>\n",
       "      <td>0.000000</td>\n",
       "      <td>0.000000</td>\n",
       "      <td>0.000000</td>\n",
       "      <td>0.000000</td>\n",
       "      <td>0.000000</td>\n",
       "      <td>0.000000</td>\n",
       "      <td>0.000000</td>\n",
       "      <td>0.000000</td>\n",
       "      <td>0.000000</td>\n",
       "    </tr>\n",
       "    <tr>\n",
       "      <th>25%</th>\n",
       "      <td>247826.500000</td>\n",
       "      <td>1.000000</td>\n",
       "      <td>7.000000</td>\n",
       "      <td>79000.000000</td>\n",
       "      <td>339.000000</td>\n",
       "      <td>678.000000</td>\n",
       "      <td>0.000000</td>\n",
       "      <td>0.000000</td>\n",
       "      <td>0.000000</td>\n",
       "      <td>0.000000</td>\n",
       "      <td>...</td>\n",
       "      <td>0.000000</td>\n",
       "      <td>0.000000</td>\n",
       "      <td>0.000000</td>\n",
       "      <td>0.000000</td>\n",
       "      <td>0.000000</td>\n",
       "      <td>0.000000</td>\n",
       "      <td>0.000000</td>\n",
       "      <td>0.000000</td>\n",
       "      <td>0.000000</td>\n",
       "      <td>0.000000</td>\n",
       "    </tr>\n",
       "    <tr>\n",
       "      <th>50%</th>\n",
       "      <td>499832.500000</td>\n",
       "      <td>2.000000</td>\n",
       "      <td>14.000000</td>\n",
       "      <td>123000.000000</td>\n",
       "      <td>364.000000</td>\n",
       "      <td>951.000000</td>\n",
       "      <td>0.000000</td>\n",
       "      <td>0.000000</td>\n",
       "      <td>0.000000</td>\n",
       "      <td>0.000000</td>\n",
       "      <td>...</td>\n",
       "      <td>0.000000</td>\n",
       "      <td>0.000000</td>\n",
       "      <td>0.000000</td>\n",
       "      <td>0.000000</td>\n",
       "      <td>0.000000</td>\n",
       "      <td>0.000000</td>\n",
       "      <td>0.000000</td>\n",
       "      <td>0.000000</td>\n",
       "      <td>0.000000</td>\n",
       "      <td>0.000000</td>\n",
       "    </tr>\n",
       "    <tr>\n",
       "      <th>75%</th>\n",
       "      <td>752136.250000</td>\n",
       "      <td>5.000000</td>\n",
       "      <td>21.000000</td>\n",
       "      <td>185000.000000</td>\n",
       "      <td>389.000000</td>\n",
       "      <td>1301.000000</td>\n",
       "      <td>1.000000</td>\n",
       "      <td>1.000000</td>\n",
       "      <td>0.000000</td>\n",
       "      <td>0.000000</td>\n",
       "      <td>...</td>\n",
       "      <td>0.000000</td>\n",
       "      <td>0.000000</td>\n",
       "      <td>0.000000</td>\n",
       "      <td>1.000000</td>\n",
       "      <td>0.000000</td>\n",
       "      <td>0.000000</td>\n",
       "      <td>0.000000</td>\n",
       "      <td>1.000000</td>\n",
       "      <td>1.000000</td>\n",
       "      <td>0.000000</td>\n",
       "    </tr>\n",
       "    <tr>\n",
       "      <th>max</th>\n",
       "      <td>999969.000000</td>\n",
       "      <td>12.000000</td>\n",
       "      <td>29.000000</td>\n",
       "      <td>408000.000000</td>\n",
       "      <td>500.000000</td>\n",
       "      <td>1784.000000</td>\n",
       "      <td>1.000000</td>\n",
       "      <td>1.000000</td>\n",
       "      <td>1.000000</td>\n",
       "      <td>1.000000</td>\n",
       "      <td>...</td>\n",
       "      <td>1.000000</td>\n",
       "      <td>1.000000</td>\n",
       "      <td>1.000000</td>\n",
       "      <td>1.000000</td>\n",
       "      <td>1.000000</td>\n",
       "      <td>1.000000</td>\n",
       "      <td>1.000000</td>\n",
       "      <td>1.000000</td>\n",
       "      <td>1.000000</td>\n",
       "      <td>1.000000</td>\n",
       "    </tr>\n",
       "  </tbody>\n",
       "</table>\n",
       "<p>8 rows × 33 columns</p>\n",
       "</div>"
      ],
      "text/plain": [
       "         employee_id    company_id     seniority         salary         diff  \\\n",
       "count   12262.000000  12262.000000  12262.000000   12262.000000  7268.000000   \n",
       "mean   499914.569401      3.435981     14.136601  137454.493557   363.238580   \n",
       "std    288904.668736      2.707309      8.073778   74744.895840    41.253068   \n",
       "min        70.000000      1.000000      1.000000   17000.000000   102.000000   \n",
       "25%    247826.500000      1.000000      7.000000   79000.000000   339.000000   \n",
       "50%    499832.500000      2.000000     14.000000  123000.000000   364.000000   \n",
       "75%    752136.250000      5.000000     21.000000  185000.000000   389.000000   \n",
       "max    999969.000000     12.000000     29.000000  408000.000000   500.000000   \n",
       "\n",
       "           diff_NQD         churn  customer_service  data_science  \\\n",
       "count  12262.000000  12262.000000      12262.000000  12262.000000   \n",
       "mean    1000.215544      0.407275          0.370005      0.128201   \n",
       "std      376.134986      0.491347          0.482825      0.334327   \n",
       "min      285.000000      0.000000          0.000000      0.000000   \n",
       "25%      678.000000      0.000000          0.000000      0.000000   \n",
       "50%      951.000000      0.000000          0.000000      0.000000   \n",
       "75%     1301.000000      1.000000          1.000000      0.000000   \n",
       "max     1784.000000      1.000000          1.000000      1.000000   \n",
       "\n",
       "             design  ...            11            12      beginner  \\\n",
       "count  12262.000000  ...  12262.000000  12262.000000  12262.000000   \n",
       "mean       0.057413  ...      0.000816      0.001305      0.222639   \n",
       "std        0.232640  ...      0.028547      0.036101      0.416035   \n",
       "min        0.000000  ...      0.000000      0.000000      0.000000   \n",
       "25%        0.000000  ...      0.000000      0.000000      0.000000   \n",
       "50%        0.000000  ...      0.000000      0.000000      0.000000   \n",
       "75%        0.000000  ...      0.000000      0.000000      0.000000   \n",
       "max        1.000000  ...      1.000000      1.000000      1.000000   \n",
       "\n",
       "       intermediate        expert        master           low           med  \\\n",
       "count  12262.000000  12262.000000  12262.000000  12262.000000  12262.000000   \n",
       "mean       0.267248      0.249062      0.225086      0.246534      0.255749   \n",
       "std        0.442541      0.432488      0.417656      0.431011      0.436299   \n",
       "min        0.000000      0.000000      0.000000      0.000000      0.000000   \n",
       "25%        0.000000      0.000000      0.000000      0.000000      0.000000   \n",
       "50%        0.000000      0.000000      0.000000      0.000000      0.000000   \n",
       "75%        1.000000      0.000000      0.000000      0.000000      1.000000   \n",
       "max        1.000000      1.000000      1.000000      1.000000      1.000000   \n",
       "\n",
       "               high   really_high  \n",
       "count  12262.000000  12262.000000  \n",
       "mean       0.253711      0.243843  \n",
       "std        0.435152      0.429416  \n",
       "min        0.000000      0.000000  \n",
       "25%        0.000000      0.000000  \n",
       "50%        0.000000      0.000000  \n",
       "75%        1.000000      0.000000  \n",
       "max        1.000000      1.000000  \n",
       "\n",
       "[8 rows x 33 columns]"
      ]
     },
     "execution_count": 252,
     "metadata": {},
     "output_type": "execute_result"
    }
   ],
   "source": [
    "sample.describe()"
   ]
  },
  {
   "cell_type": "code",
   "execution_count": 267,
   "metadata": {},
   "outputs": [],
   "source": [
    "#1,sales,low,beginner \n",
    "from sklearn.model_selection import train_test_split\n",
    "X = sample[['really_high','high','med','master','expert','intermediate','customer_service','data_science','design','engineer','marketing']]\n",
    "y = sample['churn']"
   ]
  },
  {
   "cell_type": "code",
   "execution_count": 268,
   "metadata": {},
   "outputs": [],
   "source": [
    "X_train, X_test, y_train, y_test = train_test_split(X, y, test_size=0.3, random_state=101)"
   ]
  },
  {
   "cell_type": "code",
   "execution_count": 269,
   "metadata": {},
   "outputs": [],
   "source": [
    "from sklearn.linear_model import LogisticRegression"
   ]
  },
  {
   "cell_type": "code",
   "execution_count": 270,
   "metadata": {},
   "outputs": [],
   "source": [
    "logmodel = LogisticRegression()"
   ]
  },
  {
   "cell_type": "code",
   "execution_count": 271,
   "metadata": {},
   "outputs": [
    {
     "data": {
      "text/plain": [
       "LogisticRegression(C=1.0, class_weight=None, dual=False, fit_intercept=True,\n",
       "                   intercept_scaling=1, l1_ratio=None, max_iter=100,\n",
       "                   multi_class='auto', n_jobs=None, penalty='l2',\n",
       "                   random_state=None, solver='lbfgs', tol=0.0001, verbose=0,\n",
       "                   warm_start=False)"
      ]
     },
     "execution_count": 271,
     "metadata": {},
     "output_type": "execute_result"
    }
   ],
   "source": [
    "logmodel.fit(X_train,y_train)"
   ]
  },
  {
   "cell_type": "code",
   "execution_count": 272,
   "metadata": {},
   "outputs": [],
   "source": [
    "predictions = logmodel.predict(X_test)"
   ]
  },
  {
   "cell_type": "code",
   "execution_count": 273,
   "metadata": {},
   "outputs": [
    {
     "data": {
      "text/plain": [
       "0.6148409893992933"
      ]
     },
     "execution_count": 273,
     "metadata": {},
     "output_type": "execute_result"
    }
   ],
   "source": [
    "logmodel.score(X_test,y_test)"
   ]
  },
  {
   "cell_type": "code",
   "execution_count": 274,
   "metadata": {},
   "outputs": [],
   "source": [
    "from sklearn.metrics import classification_report\n",
    "target_names = ['quit','stayed']"
   ]
  },
  {
   "cell_type": "code",
   "execution_count": 275,
   "metadata": {},
   "outputs": [
    {
     "name": "stdout",
     "output_type": "stream",
     "text": [
      "              precision    recall  f1-score   support\n",
      "\n",
      "        quit       0.62      0.86      0.72      2153\n",
      "      stayed       0.58      0.26      0.36      1526\n",
      "\n",
      "    accuracy                           0.61      3679\n",
      "   macro avg       0.60      0.56      0.54      3679\n",
      "weighted avg       0.60      0.61      0.57      3679\n",
      "\n"
     ]
    }
   ],
   "source": [
    "print(classification_report(y_test,predictions,target_names=target_names))"
   ]
  },
  {
   "cell_type": "code",
   "execution_count": 276,
   "metadata": {},
   "outputs": [],
   "source": [
    "from sklearn.metrics import confusion_matrix"
   ]
  },
  {
   "cell_type": "code",
   "execution_count": 277,
   "metadata": {},
   "outputs": [
    {
     "data": {
      "text/plain": [
       "array([[1860,  293],\n",
       "       [1124,  402]])"
      ]
     },
     "execution_count": 277,
     "metadata": {},
     "output_type": "execute_result"
    }
   ],
   "source": [
    "confusion_matrix(y_test,predictions)"
   ]
  },
  {
   "cell_type": "code",
   "execution_count": 298,
   "metadata": {},
   "outputs": [
    {
     "name": "stdout",
     "output_type": "stream",
     "text": [
      "Optimization terminated successfully.\n",
      "         Current function value: 0.664015\n",
      "         Iterations 5\n",
      "                           Logit Regression Results                           \n",
      "==============================================================================\n",
      "Dep. Variable:                  churn   No. Observations:                 3679\n",
      "Model:                          Logit   Df Residuals:                     3668\n",
      "Method:                           MLE   Df Model:                           10\n",
      "Date:                Thu, 20 Feb 2020   Pseudo R-squ.:                 0.02143\n",
      "Time:                        12:37:09   Log-Likelihood:                -2442.9\n",
      "converged:                       True   LL-Null:                       -2496.4\n",
      "Covariance Type:            nonrobust   LLR p-value:                 2.172e-18\n",
      "====================================================================================\n",
      "                       coef    std err          z      P>|z|      [0.025      0.975]\n",
      "------------------------------------------------------------------------------------\n",
      "really_high         -0.3090      0.172     -1.797      0.072      -0.646       0.028\n",
      "high                -0.9495      0.131     -7.270      0.000      -1.205      -0.694\n",
      "med                 -0.5049      0.107     -4.718      0.000      -0.715      -0.295\n",
      "master               0.2744      0.139      1.980      0.048       0.003       0.546\n",
      "expert               0.3693      0.137      2.687      0.007       0.100       0.639\n",
      "intermediate         0.0013      0.104      0.013      0.990      -0.202       0.204\n",
      "customer_service    -0.2931      0.083     -3.533      0.000      -0.456      -0.131\n",
      "data_science         0.1034      0.126      0.819      0.413      -0.144       0.351\n",
      "design               0.0118      0.161      0.073      0.942      -0.304       0.327\n",
      "engineer             0.2899      0.114      2.540      0.011       0.066       0.514\n",
      "marketing           -0.0395      0.115     -0.342      0.732      -0.266       0.187\n",
      "====================================================================================\n"
     ]
    }
   ],
   "source": [
    "logit = sm.Logit(y_test, X_test)\n",
    "result = logit.fit()\n",
    "print(result.summary())"
   ]
  },
  {
   "cell_type": "markdown",
   "metadata": {},
   "source": [
    "# I want to compare a list of people who quit in there first year versus a list of people who stayed after their first year"
   ]
  },
  {
   "cell_type": "code",
   "execution_count": null,
   "metadata": {},
   "outputs": [],
   "source": []
  },
  {
   "cell_type": "markdown",
   "metadata": {},
   "source": [
    "I am kind of interested in comparing those that left after 1 year vs. those that stayed. \n",
    "\n",
    "run an anova between a group that left and a group that stayed for company_id, dept, seniority, salary. follow up which groups are responsable for significance. \n",
    "\n",
    "now if I put all these things into a model do I get a good predicton of who is leaving and who is staying? "
   ]
  },
  {
   "cell_type": "code",
   "execution_count": 278,
   "metadata": {},
   "outputs": [],
   "source": [
    "from sklearn.tree import DecisionTreeClassifier"
   ]
  },
  {
   "cell_type": "code",
   "execution_count": 279,
   "metadata": {},
   "outputs": [],
   "source": [
    "dtree = DecisionTreeClassifier()"
   ]
  },
  {
   "cell_type": "code",
   "execution_count": 280,
   "metadata": {},
   "outputs": [
    {
     "data": {
      "text/plain": [
       "DecisionTreeClassifier(ccp_alpha=0.0, class_weight=None, criterion='gini',\n",
       "                       max_depth=None, max_features=None, max_leaf_nodes=None,\n",
       "                       min_impurity_decrease=0.0, min_impurity_split=None,\n",
       "                       min_samples_leaf=1, min_samples_split=2,\n",
       "                       min_weight_fraction_leaf=0.0, presort='deprecated',\n",
       "                       random_state=None, splitter='best')"
      ]
     },
     "execution_count": 280,
     "metadata": {},
     "output_type": "execute_result"
    }
   ],
   "source": [
    "dtree.fit(X_train,y_train)"
   ]
  },
  {
   "cell_type": "code",
   "execution_count": 281,
   "metadata": {},
   "outputs": [],
   "source": [
    "predictions = dtree.predict(X_test)"
   ]
  },
  {
   "cell_type": "code",
   "execution_count": 282,
   "metadata": {},
   "outputs": [],
   "source": [
    "from sklearn.metrics import classification_report,confusion_matrix"
   ]
  },
  {
   "cell_type": "code",
   "execution_count": 283,
   "metadata": {},
   "outputs": [
    {
     "name": "stdout",
     "output_type": "stream",
     "text": [
      "              precision    recall  f1-score   support\n",
      "\n",
      "           0       0.62      0.89      0.73      2153\n",
      "           1       0.60      0.23      0.34      1526\n",
      "\n",
      "    accuracy                           0.62      3679\n",
      "   macro avg       0.61      0.56      0.53      3679\n",
      "weighted avg       0.61      0.62      0.57      3679\n",
      "\n"
     ]
    }
   ],
   "source": [
    "print(classification_report(y_test,predictions))"
   ]
  },
  {
   "cell_type": "code",
   "execution_count": 284,
   "metadata": {},
   "outputs": [
    {
     "name": "stdout",
     "output_type": "stream",
     "text": [
      "[[1910  243]\n",
      " [1168  358]]\n"
     ]
    }
   ],
   "source": [
    "print(confusion_matrix(y_test,predictions))"
   ]
  },
  {
   "cell_type": "code",
   "execution_count": 285,
   "metadata": {},
   "outputs": [],
   "source": [
    "from sklearn.ensemble import RandomForestClassifier\n",
    "rfc = RandomForestClassifier(n_estimators=600)"
   ]
  },
  {
   "cell_type": "code",
   "execution_count": 286,
   "metadata": {},
   "outputs": [
    {
     "data": {
      "text/plain": [
       "RandomForestClassifier(bootstrap=True, ccp_alpha=0.0, class_weight=None,\n",
       "                       criterion='gini', max_depth=None, max_features='auto',\n",
       "                       max_leaf_nodes=None, max_samples=None,\n",
       "                       min_impurity_decrease=0.0, min_impurity_split=None,\n",
       "                       min_samples_leaf=1, min_samples_split=2,\n",
       "                       min_weight_fraction_leaf=0.0, n_estimators=600,\n",
       "                       n_jobs=None, oob_score=False, random_state=None,\n",
       "                       verbose=0, warm_start=False)"
      ]
     },
     "execution_count": 286,
     "metadata": {},
     "output_type": "execute_result"
    }
   ],
   "source": [
    "rfc.fit(X_train,y_train)"
   ]
  },
  {
   "cell_type": "code",
   "execution_count": 287,
   "metadata": {},
   "outputs": [],
   "source": [
    "predictions = rfc.predict(X_test)"
   ]
  },
  {
   "cell_type": "code",
   "execution_count": 288,
   "metadata": {},
   "outputs": [],
   "source": [
    "from sklearn.metrics import classification_report,confusion_matrix"
   ]
  },
  {
   "cell_type": "code",
   "execution_count": 289,
   "metadata": {},
   "outputs": [
    {
     "name": "stdout",
     "output_type": "stream",
     "text": [
      "              precision    recall  f1-score   support\n",
      "\n",
      "           0       0.62      0.87      0.73      2153\n",
      "           1       0.58      0.25      0.35      1526\n",
      "\n",
      "    accuracy                           0.61      3679\n",
      "   macro avg       0.60      0.56      0.54      3679\n",
      "weighted avg       0.61      0.61      0.57      3679\n",
      "\n"
     ]
    }
   ],
   "source": [
    "print(classification_report(y_test,predictions))"
   ]
  },
  {
   "cell_type": "code",
   "execution_count": 290,
   "metadata": {},
   "outputs": [
    {
     "name": "stdout",
     "output_type": "stream",
     "text": [
      "[[1873  280]\n",
      " [1137  389]]\n"
     ]
    }
   ],
   "source": [
    "print(confusion_matrix(y_test,predictions))"
   ]
  },
  {
   "cell_type": "code",
   "execution_count": 291,
   "metadata": {},
   "outputs": [],
   "source": [
    "from sklearn import metrics\n",
    "from sklearn.metrics import accuracy_score, f1_score, precision_score, recall_score, roc_auc_score, confusion_matrix\n",
    "from sklearn.model_selection import train_test_split"
   ]
  },
  {
   "cell_type": "code",
   "execution_count": 292,
   "metadata": {},
   "outputs": [],
   "source": [
    "# Some functions we'll use. \n",
    "def bin_metrics(x, y):\n",
    "    '''Prints four common metrics for evaluating classification predictions.'''\n",
    "    print('Accuracy:', round(metrics.accuracy_score(x, y), 4))\n",
    "    print('Precision:', round(metrics.precision_score(x, y), 4))\n",
    "    print('Recall:', round(metrics.recall_score(x, y), 4))\n",
    "    print('ROC_AUC:,', round(metrics.roc_auc_score(x, y), 4))\n",
    "    print('F1:', round(metrics.f1_score(x, y), 4))\n",
    "\n",
    "def plot_cm(x, y):\n",
    "    cm = confusion_matrix(x, y)\n",
    "    df_cm = pd.DataFrame(cm, columns=np.unique(x), index = np.unique(x))\n",
    "    df_cm.index.name = 'Actual'\n",
    "    df_cm.columns.name = 'Predicted'\n",
    "    sns.heatmap(df_cm, cmap=\"Blues\", annot=True,annot_kws={\"size\": 20}, fmt='g')# font size\n",
    "    plt.ylim([0, 2])"
   ]
  },
  {
   "cell_type": "markdown",
   "metadata": {},
   "source": [
    "random forest"
   ]
  },
  {
   "cell_type": "code",
   "execution_count": 293,
   "metadata": {},
   "outputs": [
    {
     "data": {
      "text/plain": [
       "RandomForestClassifier(bootstrap=True, ccp_alpha=0.0, class_weight=None,\n",
       "                       criterion='gini', max_depth=100, max_features='auto',\n",
       "                       max_leaf_nodes=None, max_samples=None,\n",
       "                       min_impurity_decrease=0.0, min_impurity_split=None,\n",
       "                       min_samples_leaf=1, min_samples_split=2,\n",
       "                       min_weight_fraction_leaf=0.0, n_estimators=10,\n",
       "                       n_jobs=None, oob_score=False, random_state=None,\n",
       "                       verbose=0, warm_start=False)"
      ]
     },
     "execution_count": 293,
     "metadata": {},
     "output_type": "execute_result"
    },
    {
     "name": "stdout",
     "output_type": "stream",
     "text": [
      "Accuracy: 0.6138\n",
      "Precision: 0.5764\n",
      "Recall: 0.2595\n",
      "ROC_AUC:, 0.5622\n",
      "F1: 0.3579\n"
     ]
    },
    {
     "data": {
      "image/png": "[encoded data removed]",
      "text/plain": [
       "<Figure size 432x288 with 2 Axes>"
      ]
     },
     "metadata": {},
     "output_type": "display_data"
    }
   ],
   "source": [
    "#X_train, X_test, y_train, y_test = train_test_split(X_resampled,  y_resampled, test_size=0.20, random_state = 333)\n",
    "classifier = RandomForestClassifier(n_estimators=10, max_depth=100)\n",
    "classifier.fit(X_train, y_train)\n",
    "pred_train= classifier.predict(X_train)\n",
    "pred_test= classifier.predict(X_test)\n",
    "acc_val = metrics.accuracy_score(y_test, pred_test)\n",
    "f1_val = f1_score(y_test, pred_test)\n",
    "bin_metrics(y_test, pred_test)\n",
    "plot_cm(y_test, pred_test)"
   ]
  },
  {
   "cell_type": "markdown",
   "metadata": {},
   "source": [
    "logistic regressin"
   ]
  },
  {
   "cell_type": "code",
   "execution_count": 333,
   "metadata": {},
   "outputs": [
    {
     "data": {
      "text/plain": [
       "LogisticRegression(C=1.0, class_weight=None, dual=False, fit_intercept=True,\n",
       "                   intercept_scaling=1, l1_ratio=None, max_iter=100,\n",
       "                   multi_class='auto', n_jobs=None, penalty='l2',\n",
       "                   random_state=None, solver='lbfgs', tol=0.0001, verbose=0,\n",
       "                   warm_start=False)"
      ]
     },
     "execution_count": 333,
     "metadata": {},
     "output_type": "execute_result"
    },
    {
     "name": "stdout",
     "output_type": "stream",
     "text": [
      "Accuracy: 0.5746\n",
      "Precision: 0.5701\n",
      "Recall: 0.5888\n",
      "ROC_AUC:, 0.5747\n",
      "F1: 0.5793\n"
     ]
    },
    {
     "data": {
      "image/png": "[encoded data removed]",
      "text/plain": [
       "<Figure size 432x288 with 2 Axes>"
      ]
     },
     "metadata": {},
     "output_type": "display_data"
    }
   ],
   "source": [
    "from sklearn.linear_model import LogisticRegression\n",
    "#X_train, X_test, y_train, y_test = train_test_split(X_resampled,  y_resampled, test_size=0.20, random_state=333)\n",
    "lr = LogisticRegression(solver='lbfgs')\n",
    "lr.fit(X_train, y_train)\n",
    "y_pred = lr.predict(X_test)\n",
    "bin_metrics(y_test, y_pred)\n",
    "plot_cm(y_test, y_pred)"
   ]
  },
  {
   "cell_type": "markdown",
   "metadata": {},
   "source": [
    "randome forest"
   ]
  },
  {
   "cell_type": "code",
   "execution_count": 334,
   "metadata": {},
   "outputs": [
    {
     "data": {
      "text/plain": [
       "RandomForestClassifier(bootstrap=True, ccp_alpha=0.0, class_weight=None,\n",
       "                       criterion='gini', max_depth=2, max_features='auto',\n",
       "                       max_leaf_nodes=None, max_samples=None,\n",
       "                       min_impurity_decrease=0.0, min_impurity_split=None,\n",
       "                       min_samples_leaf=1, min_samples_split=2,\n",
       "                       min_weight_fraction_leaf=0.0, n_estimators=10,\n",
       "                       n_jobs=None, oob_score=False, random_state=None,\n",
       "                       verbose=0, warm_start=False)"
      ]
     },
     "execution_count": 334,
     "metadata": {},
     "output_type": "execute_result"
    },
    {
     "data": {
      "text/plain": [
       "RandomForestClassifier(bootstrap=True, ccp_alpha=0.0, class_weight=None,\n",
       "                       criterion='gini', max_depth=10, max_features='auto',\n",
       "                       max_leaf_nodes=None, max_samples=None,\n",
       "                       min_impurity_decrease=0.0, min_impurity_split=None,\n",
       "                       min_samples_leaf=1, min_samples_split=2,\n",
       "                       min_weight_fraction_leaf=0.0, n_estimators=10,\n",
       "                       n_jobs=None, oob_score=False, random_state=None,\n",
       "                       verbose=0, warm_start=False)"
      ]
     },
     "execution_count": 334,
     "metadata": {},
     "output_type": "execute_result"
    },
    {
     "data": {
      "text/plain": [
       "RandomForestClassifier(bootstrap=True, ccp_alpha=0.0, class_weight=None,\n",
       "                       criterion='gini', max_depth=100, max_features='auto',\n",
       "                       max_leaf_nodes=None, max_samples=None,\n",
       "                       min_impurity_decrease=0.0, min_impurity_split=None,\n",
       "                       min_samples_leaf=1, min_samples_split=2,\n",
       "                       min_weight_fraction_leaf=0.0, n_estimators=10,\n",
       "                       n_jobs=None, oob_score=False, random_state=None,\n",
       "                       verbose=0, warm_start=False)"
      ]
     },
     "execution_count": 334,
     "metadata": {},
     "output_type": "execute_result"
    },
    {
     "data": {
      "text/plain": [
       "RandomForestClassifier(bootstrap=True, ccp_alpha=0.0, class_weight=None,\n",
       "                       criterion='gini', max_depth=2, max_features='auto',\n",
       "                       max_leaf_nodes=None, max_samples=None,\n",
       "                       min_impurity_decrease=0.0, min_impurity_split=None,\n",
       "                       min_samples_leaf=1, min_samples_split=2,\n",
       "                       min_weight_fraction_leaf=0.0, n_estimators=50,\n",
       "                       n_jobs=None, oob_score=False, random_state=None,\n",
       "                       verbose=0, warm_start=False)"
      ]
     },
     "execution_count": 334,
     "metadata": {},
     "output_type": "execute_result"
    },
    {
     "data": {
      "text/plain": [
       "RandomForestClassifier(bootstrap=True, ccp_alpha=0.0, class_weight=None,\n",
       "                       criterion='gini', max_depth=10, max_features='auto',\n",
       "                       max_leaf_nodes=None, max_samples=None,\n",
       "                       min_impurity_decrease=0.0, min_impurity_split=None,\n",
       "                       min_samples_leaf=1, min_samples_split=2,\n",
       "                       min_weight_fraction_leaf=0.0, n_estimators=50,\n",
       "                       n_jobs=None, oob_score=False, random_state=None,\n",
       "                       verbose=0, warm_start=False)"
      ]
     },
     "execution_count": 334,
     "metadata": {},
     "output_type": "execute_result"
    },
    {
     "data": {
      "text/plain": [
       "RandomForestClassifier(bootstrap=True, ccp_alpha=0.0, class_weight=None,\n",
       "                       criterion='gini', max_depth=100, max_features='auto',\n",
       "                       max_leaf_nodes=None, max_samples=None,\n",
       "                       min_impurity_decrease=0.0, min_impurity_split=None,\n",
       "                       min_samples_leaf=1, min_samples_split=2,\n",
       "                       min_weight_fraction_leaf=0.0, n_estimators=50,\n",
       "                       n_jobs=None, oob_score=False, random_state=None,\n",
       "                       verbose=0, warm_start=False)"
      ]
     },
     "execution_count": 334,
     "metadata": {},
     "output_type": "execute_result"
    },
    {
     "data": {
      "text/plain": [
       "RandomForestClassifier(bootstrap=True, ccp_alpha=0.0, class_weight=None,\n",
       "                       criterion='gini', max_depth=2, max_features='auto',\n",
       "                       max_leaf_nodes=None, max_samples=None,\n",
       "                       min_impurity_decrease=0.0, min_impurity_split=None,\n",
       "                       min_samples_leaf=1, min_samples_split=2,\n",
       "                       min_weight_fraction_leaf=0.0, n_estimators=500,\n",
       "                       n_jobs=None, oob_score=False, random_state=None,\n",
       "                       verbose=0, warm_start=False)"
      ]
     },
     "execution_count": 334,
     "metadata": {},
     "output_type": "execute_result"
    },
    {
     "data": {
      "text/plain": [
       "RandomForestClassifier(bootstrap=True, ccp_alpha=0.0, class_weight=None,\n",
       "                       criterion='gini', max_depth=10, max_features='auto',\n",
       "                       max_leaf_nodes=None, max_samples=None,\n",
       "                       min_impurity_decrease=0.0, min_impurity_split=None,\n",
       "                       min_samples_leaf=1, min_samples_split=2,\n",
       "                       min_weight_fraction_leaf=0.0, n_estimators=500,\n",
       "                       n_jobs=None, oob_score=False, random_state=None,\n",
       "                       verbose=0, warm_start=False)"
      ]
     },
     "execution_count": 334,
     "metadata": {},
     "output_type": "execute_result"
    },
    {
     "data": {
      "text/plain": [
       "RandomForestClassifier(bootstrap=True, ccp_alpha=0.0, class_weight=None,\n",
       "                       criterion='gini', max_depth=100, max_features='auto',\n",
       "                       max_leaf_nodes=None, max_samples=None,\n",
       "                       min_impurity_decrease=0.0, min_impurity_split=None,\n",
       "                       min_samples_leaf=1, min_samples_split=2,\n",
       "                       min_weight_fraction_leaf=0.0, n_estimators=500,\n",
       "                       n_jobs=None, oob_score=False, random_state=None,\n",
       "                       verbose=0, warm_start=False)"
      ]
     },
     "execution_count": 334,
     "metadata": {},
     "output_type": "execute_result"
    },
    {
     "data": {
      "text/plain": [
       "[<matplotlib.lines.Line2D at 0x164476890>]"
      ]
     },
     "execution_count": 334,
     "metadata": {},
     "output_type": "execute_result"
    },
    {
     "data": {
      "text/plain": [
       "[<matplotlib.lines.Line2D at 0x1130add10>]"
      ]
     },
     "execution_count": 334,
     "metadata": {},
     "output_type": "execute_result"
    },
    {
     "name": "stdout",
     "output_type": "stream",
     "text": [
      "Max Accuracy: 0.5751\n",
      "Max F1: 0.5795\n"
     ]
    },
    {
     "data": {
      "image/png": "[encoded data removed]",
      "text/plain": [
       "<Figure size 432x288 with 1 Axes>"
      ]
     },
     "metadata": {},
     "output_type": "display_data"
    }
   ],
   "source": [
    "from sklearn.ensemble import RandomForestClassifier\n",
    "#X_train, X_test, y_train, y_test = train_test_split(X_resampled,  y_resampled, test_size=0.20, random_state = 333)\n",
    "acc_scores = []\n",
    "f1_scores = []\n",
    "nEst_range = [10, 50, 500]\n",
    "depth_range = [2, 10, 100]\n",
    "for i in nEst_range:\n",
    "    for k in depth_range:\n",
    "        classifier = RandomForestClassifier(n_estimators=i, max_depth=k)\n",
    "        classifier.fit(X_train, y_train)\n",
    "        pred_train= classifier.predict(X_train)\n",
    "        pred_test= classifier.predict(X_test)\n",
    "        acc_val = metrics.accuracy_score(y_test, pred_test)\n",
    "        acc_scores.append(acc_val)\n",
    "        f1_val = f1_score(y_test, pred_test)\n",
    "        f1_scores.append(f1_val)\n",
    "plt.plot(acc_scores, marker='o', color='black')\n",
    "plt.plot(f1_scores, marker='o', color='blue')\n",
    "print(\"Max Accuracy:\", round(max(acc_scores), 4))\n",
    "print('Max F1:', round(max(f1_scores), 4))"
   ]
  },
  {
   "cell_type": "code",
   "execution_count": null,
   "metadata": {},
   "outputs": [],
   "source": []
  },
  {
   "cell_type": "code",
   "execution_count": null,
   "metadata": {},
   "outputs": [],
   "source": []
  },
  {
   "cell_type": "code",
   "execution_count": 296,
   "metadata": {},
   "outputs": [
    {
     "data": {
      "text/plain": [
       "<seaborn.axisgrid.FacetGrid at 0x1493f9810>"
      ]
     },
     "execution_count": 296,
     "metadata": {},
     "output_type": "execute_result"
    },
    {
     "data": {
      "text/plain": [
       "<matplotlib.legend.Legend at 0x1493f9410>"
      ]
     },
     "execution_count": 296,
     "metadata": {},
     "output_type": "execute_result"
    },
    {
     "data": {
      "image/png": "[encoded data removed]",
      "text/plain": [
       "<Figure size 360x360 with 1 Axes>"
      ]
     },
     "metadata": {},
     "output_type": "display_data"
    }
   ],
   "source": [
    "sns.lmplot( x=\"dept\", y=\"salary\", data=sample, fit_reg=False, hue='company_id', legend=False)\n",
    "plt.legend(loc='lower right')"
   ]
  },
  {
   "cell_type": "code",
   "execution_count": 297,
   "metadata": {},
   "outputs": [
    {
     "data": {
      "text/plain": [
       "<seaborn.axisgrid.FacetGrid at 0x14960e750>"
      ]
     },
     "execution_count": 297,
     "metadata": {},
     "output_type": "execute_result"
    },
    {
     "data": {
      "image/png": "[encoded data removed]",
      "text/plain": [
       "<Figure size 360x360 with 1 Axes>"
      ]
     },
     "metadata": {},
     "output_type": "display_data"
    }
   ],
   "source": [
    "sns.lmplot( x=\"company_id\", y=\"employee_id\", data=sample, fit_reg=False, hue='company_id', legend=False)\n",
    "#plt.legend(loc='lower right')"
   ]
  },
  {
   "cell_type": "code",
   "execution_count": null,
   "metadata": {},
   "outputs": [],
   "source": []
  },
  {
   "cell_type": "code",
   "execution_count": null,
   "metadata": {},
   "outputs": [],
   "source": []
  }
 ],
 "metadata": {
  "kernelspec": {
   "display_name": "Python 3",
   "language": "python",
   "name": "python3"
  },
  "language_info": {
   "codemirror_mode": {
    "name": "ipython",
    "version": 3
   },
   "file_extension": ".py",
   "mimetype": "text/x-python",
   "name": "python",
   "nbconvert_exporter": "python",
   "pygments_lexer": "ipython3",
   "version": "3.7.4"
  }
 },
 "nbformat": 4,
 "nbformat_minor": 2
}
