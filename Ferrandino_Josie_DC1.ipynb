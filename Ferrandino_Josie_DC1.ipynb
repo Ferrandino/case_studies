{
 "cells": [
  {
   "cell_type": "code",
   "execution_count": 1,
   "metadata": {},
   "outputs": [],
   "source": [
    "import pandas as pd\n",
    "import numpy as np\n",
    "import matplotlib.pyplot as plt\n",
    "import seaborn as sns\n",
    "%matplotlib inline"
   ]
  },
  {
   "cell_type": "code",
   "execution_count": 2,
   "metadata": {},
   "outputs": [],
   "source": [
    "test_data = pd.read_csv('test_results.csv')"
   ]
  },
  {
   "cell_type": "code",
   "execution_count": 3,
   "metadata": {},
   "outputs": [],
   "source": [
    "user_data = pd.read_csv('user_table.csv')"
   ]
  },
  {
   "cell_type": "code",
   "execution_count": 4,
   "metadata": {},
   "outputs": [],
   "source": [
    "#merge data \n",
    "data = pd.merge(test_data,user_data,on=\"user_id\")"
   ]
  },
  {
   "cell_type": "code",
   "execution_count": 5,
   "metadata": {},
   "outputs": [
    {
     "data": {
      "text/html": [
       "<div>\n",
       "<style scoped>\n",
       "    .dataframe tbody tr th:only-of-type {\n",
       "        vertical-align: middle;\n",
       "    }\n",
       "\n",
       "    .dataframe tbody tr th {\n",
       "        vertical-align: top;\n",
       "    }\n",
       "\n",
       "    .dataframe thead th {\n",
       "        text-align: right;\n",
       "    }\n",
       "</style>\n",
       "<table border=\"1\" class=\"dataframe\">\n",
       "  <thead>\n",
       "    <tr style=\"text-align: right;\">\n",
       "      <th></th>\n",
       "      <th>Unnamed: 0</th>\n",
       "      <th>user_id</th>\n",
       "      <th>timestamp</th>\n",
       "      <th>source</th>\n",
       "      <th>device</th>\n",
       "      <th>operative_system</th>\n",
       "      <th>test</th>\n",
       "      <th>price</th>\n",
       "      <th>converted</th>\n",
       "      <th>city</th>\n",
       "      <th>country</th>\n",
       "      <th>lat</th>\n",
       "      <th>long</th>\n",
       "    </tr>\n",
       "  </thead>\n",
       "  <tbody>\n",
       "    <tr>\n",
       "      <th>0</th>\n",
       "      <td>0</td>\n",
       "      <td>604839</td>\n",
       "      <td>2015-05-08 03:38:34</td>\n",
       "      <td>ads_facebook</td>\n",
       "      <td>mobile</td>\n",
       "      <td>iOS</td>\n",
       "      <td>0</td>\n",
       "      <td>39.0</td>\n",
       "      <td>0</td>\n",
       "      <td>Buffalo</td>\n",
       "      <td>USA</td>\n",
       "      <td>42.89</td>\n",
       "      <td>-78.86</td>\n",
       "    </tr>\n",
       "    <tr>\n",
       "      <th>1</th>\n",
       "      <td>1</td>\n",
       "      <td>624057</td>\n",
       "      <td>2015-05-10 21:08:46</td>\n",
       "      <td>seo-google</td>\n",
       "      <td>mobile</td>\n",
       "      <td>android</td>\n",
       "      <td>0</td>\n",
       "      <td>39.0</td>\n",
       "      <td>0</td>\n",
       "      <td>Lakeville</td>\n",
       "      <td>USA</td>\n",
       "      <td>44.68</td>\n",
       "      <td>-93.24</td>\n",
       "    </tr>\n",
       "    <tr>\n",
       "      <th>2</th>\n",
       "      <td>2</td>\n",
       "      <td>317970</td>\n",
       "      <td>2015-04-04 15:01:23</td>\n",
       "      <td>ads-bing</td>\n",
       "      <td>mobile</td>\n",
       "      <td>android</td>\n",
       "      <td>0</td>\n",
       "      <td>39.0</td>\n",
       "      <td>0</td>\n",
       "      <td>Parma</td>\n",
       "      <td>USA</td>\n",
       "      <td>41.38</td>\n",
       "      <td>-81.73</td>\n",
       "    </tr>\n",
       "    <tr>\n",
       "      <th>3</th>\n",
       "      <td>3</td>\n",
       "      <td>685636</td>\n",
       "      <td>2015-05-07 07:26:01</td>\n",
       "      <td>direct_traffic</td>\n",
       "      <td>mobile</td>\n",
       "      <td>iOS</td>\n",
       "      <td>1</td>\n",
       "      <td>59.0</td>\n",
       "      <td>0</td>\n",
       "      <td>Fayetteville</td>\n",
       "      <td>USA</td>\n",
       "      <td>35.07</td>\n",
       "      <td>-78.90</td>\n",
       "    </tr>\n",
       "    <tr>\n",
       "      <th>4</th>\n",
       "      <td>4</td>\n",
       "      <td>820854</td>\n",
       "      <td>2015-05-24 11:04:40</td>\n",
       "      <td>ads_facebook</td>\n",
       "      <td>web</td>\n",
       "      <td>mac</td>\n",
       "      <td>0</td>\n",
       "      <td>39.0</td>\n",
       "      <td>0</td>\n",
       "      <td>Fishers</td>\n",
       "      <td>USA</td>\n",
       "      <td>39.95</td>\n",
       "      <td>-86.02</td>\n",
       "    </tr>\n",
       "  </tbody>\n",
       "</table>\n",
       "</div>"
      ],
      "text/plain": [
       "   Unnamed: 0  user_id            timestamp          source  device  \\\n",
       "0           0   604839  2015-05-08 03:38:34    ads_facebook  mobile   \n",
       "1           1   624057  2015-05-10 21:08:46      seo-google  mobile   \n",
       "2           2   317970  2015-04-04 15:01:23        ads-bing  mobile   \n",
       "3           3   685636  2015-05-07 07:26:01  direct_traffic  mobile   \n",
       "4           4   820854  2015-05-24 11:04:40    ads_facebook     web   \n",
       "\n",
       "  operative_system  test  price  converted          city country    lat   long  \n",
       "0              iOS     0   39.0          0       Buffalo     USA  42.89 -78.86  \n",
       "1          android     0   39.0          0     Lakeville     USA  44.68 -93.24  \n",
       "2          android     0   39.0          0         Parma     USA  41.38 -81.73  \n",
       "3              iOS     1   59.0          0  Fayetteville     USA  35.07 -78.90  \n",
       "4              mac     0   39.0          0       Fishers     USA  39.95 -86.02  "
      ]
     },
     "execution_count": 5,
     "metadata": {},
     "output_type": "execute_result"
    }
   ],
   "source": [
    "data.head()"
   ]
  },
  {
   "cell_type": "markdown",
   "metadata": {},
   "source": [
    "# Looking at the data as a whole I decided to start by\n",
    "## 1) look at the distribution of those who converted \n",
    "## 2) decrease the dimentionality of source data\n",
    "## 3) check of missing data or weird labels with source, device, and operative_system"
   ]
  },
  {
   "cell_type": "code",
   "execution_count": 6,
   "metadata": {},
   "outputs": [
    {
     "data": {
      "text/plain": [
       "<matplotlib.axes._subplots.AxesSubplot at 0x129ca4190>"
      ]
     },
     "execution_count": 6,
     "metadata": {},
     "output_type": "execute_result"
    },
    {
     "data": {
      "image/png": "[encoded data removed]",
      "text/plain": [
       "<Figure size 432x288 with 1 Axes>"
      ]
     },
     "metadata": {},
     "output_type": "display_data"
    }
   ],
   "source": [
    "#address imbalanced groups between those who converted and those who did not\n",
    "sns.set_style('whitegrid')\n",
    "sns.countplot(x='test',hue='converted',data=data,palette='RdBu_r')"
   ]
  },
  {
   "cell_type": "code",
   "execution_count": 7,
   "metadata": {},
   "outputs": [
    {
     "data": {
      "text/plain": [
       "<matplotlib.axes._subplots.AxesSubplot at 0x12b547250>"
      ]
     },
     "execution_count": 7,
     "metadata": {},
     "output_type": "execute_result"
    },
    {
     "data": {
      "image/png": "[encoded data removed]",
      "text/plain": [
       "<Figure size 432x288 with 1 Axes>"
      ]
     },
     "metadata": {},
     "output_type": "display_data"
    }
   ],
   "source": [
    "#sources seem similar weather you convert or not\n",
    "sns.set_style('whitegrid')\n",
    "sns.countplot(x='converted',hue='source',data=data,palette='RdBu_r')"
   ]
  },
  {
   "cell_type": "code",
   "execution_count": 8,
   "metadata": {},
   "outputs": [],
   "source": [
    "#reduce dimentionality of source data \n",
    "data['source'] = data['source'].replace('ads_facebook','ads')\n",
    "data['source'] = data['source'].replace('ads-bing','ads')\n",
    "data['source'] = data['source'].replace('ads-google','ads')\n",
    "data['source'] = data['source'].replace('ads_other','ads')\n",
    "data['source'] = data['source'].replace('ads-yahoo','ads')\n",
    "\n",
    "data['source'] = data['source'].replace('seo-google','seo')\n",
    "data['source'] = data['source'].replace('seo_facebook','seo')\n",
    "data['source'] = data['source'].replace('seo-bing','seo')\n",
    "data['source'] = data['source'].replace('seo-other','seo')\n",
    "data['source'] = data['source'].replace('seo-yahoo','seo')"
   ]
  },
  {
   "cell_type": "code",
   "execution_count": 9,
   "metadata": {},
   "outputs": [
    {
     "data": {
      "text/plain": [
       "<matplotlib.axes._subplots.AxesSubplot at 0x12d68cb90>"
      ]
     },
     "execution_count": 9,
     "metadata": {},
     "output_type": "execute_result"
    },
    {
     "data": {
      "image/png": "[encoded data removed]",
      "text/plain": [
       "<Figure size 432x288 with 1 Axes>"
      ]
     },
     "metadata": {},
     "output_type": "display_data"
    }
   ],
   "source": [
    "sns.set_style('whitegrid')\n",
    "sns.countplot(x='converted',hue='source',data=data,palette='RdBu_r')"
   ]
  },
  {
   "cell_type": "code",
   "execution_count": 10,
   "metadata": {},
   "outputs": [
    {
     "data": {
      "text/plain": [
       "<matplotlib.axes._subplots.AxesSubplot at 0x129d9c890>"
      ]
     },
     "execution_count": 10,
     "metadata": {},
     "output_type": "execute_result"
    },
    {
     "data": {
      "image/png": "[encoded data removed]",
      "text/plain": [
       "<Figure size 432x288 with 1 Axes>"
      ]
     },
     "metadata": {},
     "output_type": "display_data"
    }
   ],
   "source": [
    "#address operative system labels \n",
    "sns.set_style('whitegrid')\n",
    "sns.countplot(x='converted',hue='operative_system',data=data,palette='RdBu_r')"
   ]
  },
  {
   "cell_type": "code",
   "execution_count": 11,
   "metadata": {},
   "outputs": [],
   "source": [
    "#combine names\n",
    "data['operative_system'] = data['operative_system'].replace('anroid','android')\n",
    "data['operative_system'] = data['operative_system'].replace('apple','mac')\n",
    "data['operative_system'] = data['operative_system'].replace('wnddows','windows')\n",
    "data['operative_system'] = data['operative_system'].replace('i0S','iOS')"
   ]
  },
  {
   "cell_type": "code",
   "execution_count": 12,
   "metadata": {},
   "outputs": [
    {
     "data": {
      "text/plain": [
       "<matplotlib.axes._subplots.AxesSubplot at 0x12d3d1bd0>"
      ]
     },
     "execution_count": 12,
     "metadata": {},
     "output_type": "execute_result"
    },
    {
     "data": {
      "image/png": "[encoded data removed]",
      "text/plain": [
       "<Figure size 432x288 with 1 Axes>"
      ]
     },
     "metadata": {},
     "output_type": "display_data"
    }
   ],
   "source": [
    "#address operative system labels \n",
    "sns.set_style('whitegrid')\n",
    "sns.countplot(x='converted',hue='operative_system',data=data,palette='RdBu_r')"
   ]
  },
  {
   "cell_type": "code",
   "execution_count": 13,
   "metadata": {},
   "outputs": [
    {
     "data": {
      "text/plain": [
       "<matplotlib.axes._subplots.AxesSubplot at 0x12d452d90>"
      ]
     },
     "execution_count": 13,
     "metadata": {},
     "output_type": "execute_result"
    },
    {
     "data": {
      "image/png": "[encoded data removed]",
      "text/plain": [
       "<Figure size 432x288 with 1 Axes>"
      ]
     },
     "metadata": {},
     "output_type": "display_data"
    }
   ],
   "source": [
    "sns.set_style('whitegrid')\n",
    "sns.countplot(x='converted',hue='device',data=data,palette='RdBu_r')"
   ]
  },
  {
   "cell_type": "code",
   "execution_count": 14,
   "metadata": {},
   "outputs": [
    {
     "data": {
      "text/plain": [
       "<matplotlib.axes._subplots.AxesSubplot at 0x12d785110>"
      ]
     },
     "execution_count": 14,
     "metadata": {},
     "output_type": "execute_result"
    },
    {
     "data": {
      "image/png": "[encoded data removed]",
      "text/plain": [
       "<Figure size 432x288 with 1 Axes>"
      ]
     },
     "metadata": {},
     "output_type": "display_data"
    }
   ],
   "source": [
    "#see if there is missing data\n",
    "sns.heatmap(data.isnull(),yticklabels=False,cbar=False,cmap='viridis')"
   ]
  },
  {
   "cell_type": "code",
   "execution_count": 15,
   "metadata": {},
   "outputs": [],
   "source": [
    "#drop missing data \n",
    "data.dropna(inplace=True)"
   ]
  },
  {
   "cell_type": "code",
   "execution_count": 16,
   "metadata": {},
   "outputs": [
    {
     "data": {
      "text/plain": [
       "<matplotlib.axes._subplots.AxesSubplot at 0x12d4522d0>"
      ]
     },
     "execution_count": 16,
     "metadata": {},
     "output_type": "execute_result"
    },
    {
     "data": {
      "image/png": "[encoded data removed]",
      "text/plain": [
       "<Figure size 432x288 with 1 Axes>"
      ]
     },
     "metadata": {},
     "output_type": "display_data"
    }
   ],
   "source": [
    "sns.heatmap(data.isnull(),yticklabels=False,cbar=False,cmap='viridis')"
   ]
  },
  {
   "cell_type": "code",
   "execution_count": 17,
   "metadata": {},
   "outputs": [
    {
     "name": "stdout",
     "output_type": "stream",
     "text": [
      "<class 'pandas.core.frame.DataFrame'>\n",
      "Int64Index: 257298 entries, 0 to 275615\n",
      "Data columns (total 13 columns):\n",
      "Unnamed: 0          257298 non-null int64\n",
      "user_id             257298 non-null int64\n",
      "timestamp           257298 non-null object\n",
      "source              257298 non-null object\n",
      "device              257298 non-null object\n",
      "operative_system    257298 non-null object\n",
      "test                257298 non-null int64\n",
      "price               257298 non-null float64\n",
      "converted           257298 non-null int64\n",
      "city                257298 non-null object\n",
      "country             257298 non-null object\n",
      "lat                 257298 non-null float64\n",
      "long                257298 non-null float64\n",
      "dtypes: float64(3), int64(4), object(6)\n",
      "memory usage: 27.5+ MB\n"
     ]
    }
   ],
   "source": [
    "data.info()"
   ]
  },
  {
   "cell_type": "code",
   "execution_count": 18,
   "metadata": {},
   "outputs": [],
   "source": [
    "import pyodbc\n",
    "import textwrap\n",
    "from numpy import nansum\n",
    "from numpy import nanmean\n",
    "import pandas as pd\n",
    "import statsmodels.stats.api as sms\n",
    "from scipy import stats as st"
   ]
  },
  {
   "cell_type": "markdown",
   "metadata": {},
   "source": [
    "# The following piece of code performs series of t-test between groups and calculates revenue for the test group and the control group. The conversion rate was significantly lower for the test group (p < 0.01). The test group converted fewer people (test = 1479, control = 1862) but had a greater gross of 87261 dollars than the control group with 72618 dollars. However, other confounding factors were not taken into consideration. "
   ]
  },
  {
   "cell_type": "code",
   "execution_count": 20,
   "metadata": {},
   "outputs": [],
   "source": [
    "AB_data = data.drop(['Unnamed: 0', 'timestamp','source','device','operative_system','city','lat','long','country'], axis = 1)"
   ]
  },
  {
   "cell_type": "code",
   "execution_count": 21,
   "metadata": {},
   "outputs": [
    {
     "data": {
      "text/html": [
       "<div>\n",
       "<style scoped>\n",
       "    .dataframe tbody tr th:only-of-type {\n",
       "        vertical-align: middle;\n",
       "    }\n",
       "\n",
       "    .dataframe tbody tr th {\n",
       "        vertical-align: top;\n",
       "    }\n",
       "\n",
       "    .dataframe thead th {\n",
       "        text-align: right;\n",
       "    }\n",
       "</style>\n",
       "<table border=\"1\" class=\"dataframe\">\n",
       "  <thead>\n",
       "    <tr style=\"text-align: right;\">\n",
       "      <th></th>\n",
       "      <th>user_id</th>\n",
       "      <th>test</th>\n",
       "      <th>price</th>\n",
       "      <th>converted</th>\n",
       "    </tr>\n",
       "  </thead>\n",
       "  <tbody>\n",
       "    <tr>\n",
       "      <th>0</th>\n",
       "      <td>604839</td>\n",
       "      <td>0</td>\n",
       "      <td>39.0</td>\n",
       "      <td>0</td>\n",
       "    </tr>\n",
       "    <tr>\n",
       "      <th>1</th>\n",
       "      <td>624057</td>\n",
       "      <td>0</td>\n",
       "      <td>39.0</td>\n",
       "      <td>0</td>\n",
       "    </tr>\n",
       "    <tr>\n",
       "      <th>2</th>\n",
       "      <td>317970</td>\n",
       "      <td>0</td>\n",
       "      <td>39.0</td>\n",
       "      <td>0</td>\n",
       "    </tr>\n",
       "    <tr>\n",
       "      <th>3</th>\n",
       "      <td>685636</td>\n",
       "      <td>1</td>\n",
       "      <td>59.0</td>\n",
       "      <td>0</td>\n",
       "    </tr>\n",
       "    <tr>\n",
       "      <th>4</th>\n",
       "      <td>820854</td>\n",
       "      <td>0</td>\n",
       "      <td>39.0</td>\n",
       "      <td>0</td>\n",
       "    </tr>\n",
       "  </tbody>\n",
       "</table>\n",
       "</div>"
      ],
      "text/plain": [
       "   user_id  test  price  converted\n",
       "0   604839     0   39.0          0\n",
       "1   624057     0   39.0          0\n",
       "2   317970     0   39.0          0\n",
       "3   685636     1   59.0          0\n",
       "4   820854     0   39.0          0"
      ]
     },
     "execution_count": 21,
     "metadata": {},
     "output_type": "execute_result"
    }
   ],
   "source": [
    "AB_data.head()"
   ]
  },
  {
   "cell_type": "code",
   "execution_count": 22,
   "metadata": {},
   "outputs": [],
   "source": [
    "#is there a difference between those that converted that were in the test group vs. those that were not in the test group\n",
    "A_test = AB_data.loc[AB_data['test']==1,'converted']\n",
    "B_not_test = AB_data.loc[AB_data['test']==0,'converted']\n",
    "#TODO make sure this is a representative sample \n",
    "sample_B_not_test = B_not_test.sample(n = 92345) "
   ]
  },
  {
   "cell_type": "code",
   "execution_count": 25,
   "metadata": {},
   "outputs": [
    {
     "data": {
      "text/plain": [
       "Ttest_indResult(statistic=-7.114659950309163, pvalue=1.1259986835930944e-12)"
      ]
     },
     "execution_count": 25,
     "metadata": {},
     "output_type": "execute_result"
    }
   ],
   "source": [
    "from scipy import stats\n",
    "stats.ttest_ind(A_test, sample_B_not_test, equal_var=False)"
   ]
  },
  {
   "cell_type": "code",
   "execution_count": 26,
   "metadata": {},
   "outputs": [
    {
     "data": {
      "text/plain": [
       "Ttest_indResult(statistic=-7.114659950311242, pvalue=1.1259409946155307e-12)"
      ]
     },
     "execution_count": 26,
     "metadata": {},
     "output_type": "execute_result"
    }
   ],
   "source": [
    "from scipy.stats import ttest_ind_from_stats\n",
    "mean1 = np.mean(A_test)\n",
    "std1 = np.std(A_test,ddof=1)\n",
    "nobs1 = len(A_test)\n",
    "\n",
    "mean2 = np.mean(sample_B_not_test)\n",
    "std2 = np.std(sample_B_not_test,ddof=1)\n",
    "nobs2 = len(sample_B_not_test)\n",
    "\n",
    "ttest_ind_from_stats(mean1=mean1, std1=std1, nobs1=nobs1, mean2=mean2,std2=std2,nobs2=nobs2, equal_var=True)"
   ]
  },
  {
   "cell_type": "code",
   "execution_count": 29,
   "metadata": {},
   "outputs": [
    {
     "name": "stdout",
     "output_type": "stream",
     "text": [
      "number in test that converted:  1479\n",
      "revenue: $ 87261\n",
      "number not in test that converted:  1888\n",
      "revenue: $ 73632\n"
     ]
    }
   ],
   "source": [
    "C_T = sum(float(num) > 0 for num in A_test)\n",
    "rev_for_test = C_T*59\n",
    "print('number in test that converted: ',C_T)\n",
    "print('revenue: $',rev_for_test)\n",
    "C_NT = sum(float(num) > 0 for num in sample_B_not_test)\n",
    "rev_for_no_test = C_NT*39\n",
    "print('number not in test that converted: ',C_NT)\n",
    "print('revenue: $',rev_for_no_test)"
   ]
  },
  {
   "cell_type": "markdown",
   "metadata": {},
   "source": [
    "# The test did increase revenue but conversion rate took a hit. Are there predictors we can use to the control data to help boost conversion?"
   ]
  },
  {
   "cell_type": "code",
   "execution_count": 102,
   "metadata": {},
   "outputs": [],
   "source": [
    "#great a control group that converted and a control group that did not convert and put them in dataframe. \n",
    "non_test_data_not_converted = data[(data.test==0) & (data.converted==0)]\n",
    "non_test_data_converted = data[(data.test==0) & (data.converted==1)]\n",
    "sample_non_test_data_not_converted = non_test_data_not_converted.sample(n = 3331)"
   ]
  },
  {
   "cell_type": "code",
   "execution_count": 103,
   "metadata": {},
   "outputs": [],
   "source": [
    "resample_control = non_test_data_converted.append(sample_non_test_data_not_converted)"
   ]
  },
  {
   "cell_type": "code",
   "execution_count": 104,
   "metadata": {},
   "outputs": [
    {
     "data": {
      "text/html": [
       "<div>\n",
       "<style scoped>\n",
       "    .dataframe tbody tr th:only-of-type {\n",
       "        vertical-align: middle;\n",
       "    }\n",
       "\n",
       "    .dataframe tbody tr th {\n",
       "        vertical-align: top;\n",
       "    }\n",
       "\n",
       "    .dataframe thead th {\n",
       "        text-align: right;\n",
       "    }\n",
       "</style>\n",
       "<table border=\"1\" class=\"dataframe\">\n",
       "  <thead>\n",
       "    <tr style=\"text-align: right;\">\n",
       "      <th></th>\n",
       "      <th>Unnamed: 0</th>\n",
       "      <th>user_id</th>\n",
       "      <th>test</th>\n",
       "      <th>price</th>\n",
       "      <th>converted</th>\n",
       "      <th>lat</th>\n",
       "      <th>long</th>\n",
       "      <th>mobile</th>\n",
       "      <th>web</th>\n",
       "      <th>ads</th>\n",
       "      <th>direct_traffic</th>\n",
       "      <th>friend_referral</th>\n",
       "      <th>seo</th>\n",
       "      <th>android</th>\n",
       "      <th>iOS</th>\n",
       "      <th>mac</th>\n",
       "      <th>windows</th>\n",
       "    </tr>\n",
       "  </thead>\n",
       "  <tbody>\n",
       "    <tr>\n",
       "      <th>count</th>\n",
       "      <td>6662.000000</td>\n",
       "      <td>6662.000000</td>\n",
       "      <td>6662.0</td>\n",
       "      <td>6.662000e+03</td>\n",
       "      <td>6662.000000</td>\n",
       "      <td>6662.000000</td>\n",
       "      <td>6662.000000</td>\n",
       "      <td>6662.000000</td>\n",
       "      <td>6662.000000</td>\n",
       "      <td>6662.000000</td>\n",
       "      <td>6662.000000</td>\n",
       "      <td>6662.000000</td>\n",
       "      <td>6662.000000</td>\n",
       "      <td>6662.000000</td>\n",
       "      <td>6662.000000</td>\n",
       "      <td>6662.000000</td>\n",
       "      <td>6662.000000</td>\n",
       "    </tr>\n",
       "    <tr>\n",
       "      <th>mean</th>\n",
       "      <td>158562.623536</td>\n",
       "      <td>502344.302612</td>\n",
       "      <td>0.0</td>\n",
       "      <td>6.049901e+06</td>\n",
       "      <td>0.500000</td>\n",
       "      <td>36.990377</td>\n",
       "      <td>-94.278442</td>\n",
       "      <td>0.571600</td>\n",
       "      <td>0.428400</td>\n",
       "      <td>0.549685</td>\n",
       "      <td>0.161813</td>\n",
       "      <td>0.102372</td>\n",
       "      <td>0.186130</td>\n",
       "      <td>0.224707</td>\n",
       "      <td>0.346893</td>\n",
       "      <td>0.099670</td>\n",
       "      <td>0.328730</td>\n",
       "    </tr>\n",
       "    <tr>\n",
       "      <th>std</th>\n",
       "      <td>91852.036412</td>\n",
       "      <td>288335.782511</td>\n",
       "      <td>0.0</td>\n",
       "      <td>6.617852e+07</td>\n",
       "      <td>0.500038</td>\n",
       "      <td>5.295280</td>\n",
       "      <td>18.086241</td>\n",
       "      <td>0.494884</td>\n",
       "      <td>0.494884</td>\n",
       "      <td>0.497563</td>\n",
       "      <td>0.368307</td>\n",
       "      <td>0.303159</td>\n",
       "      <td>0.389241</td>\n",
       "      <td>0.417421</td>\n",
       "      <td>0.476017</td>\n",
       "      <td>0.299582</td>\n",
       "      <td>0.469787</td>\n",
       "    </tr>\n",
       "    <tr>\n",
       "      <th>min</th>\n",
       "      <td>13.000000</td>\n",
       "      <td>122.000000</td>\n",
       "      <td>0.0</td>\n",
       "      <td>3.900000e+01</td>\n",
       "      <td>0.000000</td>\n",
       "      <td>21.320000</td>\n",
       "      <td>-157.800000</td>\n",
       "      <td>0.000000</td>\n",
       "      <td>0.000000</td>\n",
       "      <td>0.000000</td>\n",
       "      <td>0.000000</td>\n",
       "      <td>0.000000</td>\n",
       "      <td>0.000000</td>\n",
       "      <td>0.000000</td>\n",
       "      <td>0.000000</td>\n",
       "      <td>0.000000</td>\n",
       "      <td>0.000000</td>\n",
       "    </tr>\n",
       "    <tr>\n",
       "      <th>25%</th>\n",
       "      <td>78573.750000</td>\n",
       "      <td>252390.500000</td>\n",
       "      <td>0.0</td>\n",
       "      <td>3.900000e+01</td>\n",
       "      <td>0.000000</td>\n",
       "      <td>33.450000</td>\n",
       "      <td>-112.200000</td>\n",
       "      <td>0.000000</td>\n",
       "      <td>0.000000</td>\n",
       "      <td>0.000000</td>\n",
       "      <td>0.000000</td>\n",
       "      <td>0.000000</td>\n",
       "      <td>0.000000</td>\n",
       "      <td>0.000000</td>\n",
       "      <td>0.000000</td>\n",
       "      <td>0.000000</td>\n",
       "      <td>0.000000</td>\n",
       "    </tr>\n",
       "    <tr>\n",
       "      <th>50%</th>\n",
       "      <td>159816.000000</td>\n",
       "      <td>506634.500000</td>\n",
       "      <td>0.0</td>\n",
       "      <td>3.900000e+01</td>\n",
       "      <td>0.500000</td>\n",
       "      <td>37.660000</td>\n",
       "      <td>-90.010000</td>\n",
       "      <td>1.000000</td>\n",
       "      <td>0.000000</td>\n",
       "      <td>1.000000</td>\n",
       "      <td>0.000000</td>\n",
       "      <td>0.000000</td>\n",
       "      <td>0.000000</td>\n",
       "      <td>0.000000</td>\n",
       "      <td>0.000000</td>\n",
       "      <td>0.000000</td>\n",
       "      <td>0.000000</td>\n",
       "    </tr>\n",
       "    <tr>\n",
       "      <th>75%</th>\n",
       "      <td>237993.250000</td>\n",
       "      <td>754434.500000</td>\n",
       "      <td>0.0</td>\n",
       "      <td>3.900000e+01</td>\n",
       "      <td>1.000000</td>\n",
       "      <td>40.670000</td>\n",
       "      <td>-80.090000</td>\n",
       "      <td>1.000000</td>\n",
       "      <td>1.000000</td>\n",
       "      <td>1.000000</td>\n",
       "      <td>0.000000</td>\n",
       "      <td>0.000000</td>\n",
       "      <td>0.000000</td>\n",
       "      <td>0.000000</td>\n",
       "      <td>1.000000</td>\n",
       "      <td>0.000000</td>\n",
       "      <td>1.000000</td>\n",
       "    </tr>\n",
       "    <tr>\n",
       "      <th>max</th>\n",
       "      <td>316725.000000</td>\n",
       "      <td>999864.000000</td>\n",
       "      <td>0.0</td>\n",
       "      <td>9.784738e+08</td>\n",
       "      <td>1.000000</td>\n",
       "      <td>61.180000</td>\n",
       "      <td>30.310000</td>\n",
       "      <td>1.000000</td>\n",
       "      <td>1.000000</td>\n",
       "      <td>1.000000</td>\n",
       "      <td>1.000000</td>\n",
       "      <td>1.000000</td>\n",
       "      <td>1.000000</td>\n",
       "      <td>1.000000</td>\n",
       "      <td>1.000000</td>\n",
       "      <td>1.000000</td>\n",
       "      <td>1.000000</td>\n",
       "    </tr>\n",
       "  </tbody>\n",
       "</table>\n",
       "</div>"
      ],
      "text/plain": [
       "          Unnamed: 0        user_id    test         price    converted  \\\n",
       "count    6662.000000    6662.000000  6662.0  6.662000e+03  6662.000000   \n",
       "mean   158562.623536  502344.302612     0.0  6.049901e+06     0.500000   \n",
       "std     91852.036412  288335.782511     0.0  6.617852e+07     0.500038   \n",
       "min        13.000000     122.000000     0.0  3.900000e+01     0.000000   \n",
       "25%     78573.750000  252390.500000     0.0  3.900000e+01     0.000000   \n",
       "50%    159816.000000  506634.500000     0.0  3.900000e+01     0.500000   \n",
       "75%    237993.250000  754434.500000     0.0  3.900000e+01     1.000000   \n",
       "max    316725.000000  999864.000000     0.0  9.784738e+08     1.000000   \n",
       "\n",
       "               lat         long       mobile          web          ads  \\\n",
       "count  6662.000000  6662.000000  6662.000000  6662.000000  6662.000000   \n",
       "mean     36.990377   -94.278442     0.571600     0.428400     0.549685   \n",
       "std       5.295280    18.086241     0.494884     0.494884     0.497563   \n",
       "min      21.320000  -157.800000     0.000000     0.000000     0.000000   \n",
       "25%      33.450000  -112.200000     0.000000     0.000000     0.000000   \n",
       "50%      37.660000   -90.010000     1.000000     0.000000     1.000000   \n",
       "75%      40.670000   -80.090000     1.000000     1.000000     1.000000   \n",
       "max      61.180000    30.310000     1.000000     1.000000     1.000000   \n",
       "\n",
       "       direct_traffic  friend_referral          seo      android          iOS  \\\n",
       "count     6662.000000      6662.000000  6662.000000  6662.000000  6662.000000   \n",
       "mean         0.161813         0.102372     0.186130     0.224707     0.346893   \n",
       "std          0.368307         0.303159     0.389241     0.417421     0.476017   \n",
       "min          0.000000         0.000000     0.000000     0.000000     0.000000   \n",
       "25%          0.000000         0.000000     0.000000     0.000000     0.000000   \n",
       "50%          0.000000         0.000000     0.000000     0.000000     0.000000   \n",
       "75%          0.000000         0.000000     0.000000     0.000000     1.000000   \n",
       "max          1.000000         1.000000     1.000000     1.000000     1.000000   \n",
       "\n",
       "               mac      windows  \n",
       "count  6662.000000  6662.000000  \n",
       "mean      0.099670     0.328730  \n",
       "std       0.299582     0.469787  \n",
       "min       0.000000     0.000000  \n",
       "25%       0.000000     0.000000  \n",
       "50%       0.000000     0.000000  \n",
       "75%       0.000000     1.000000  \n",
       "max       1.000000     1.000000  "
      ]
     },
     "execution_count": 104,
     "metadata": {},
     "output_type": "execute_result"
    }
   ],
   "source": [
    "resample_control.describe()"
   ]
  },
  {
   "cell_type": "code",
   "execution_count": null,
   "metadata": {},
   "outputs": [],
   "source": []
  },
  {
   "cell_type": "code",
   "execution_count": 79,
   "metadata": {},
   "outputs": [],
   "source": [
    "#change device to dummy and add to data\n",
    "#web = 1 is web if =0 is phone so default is phone\n",
    "#web = pd.get_dummies(data['device'],drop_first=True)\n",
    "web = pd.get_dummies(resample_control['device'])\n",
    "resample_control = pd.concat([resample_control,web],axis=1)"
   ]
  },
  {
   "cell_type": "code",
   "execution_count": 80,
   "metadata": {},
   "outputs": [],
   "source": [
    "#ads is the default\n",
    "source_D = pd.get_dummies(resample_control['source'])\n",
    "#source_D = pd.get_dummies(data['source'],drop_first=True)\n",
    "resample_control = pd.concat([resample_control,source_D],axis=1)"
   ]
  },
  {
   "cell_type": "code",
   "execution_count": 81,
   "metadata": {},
   "outputs": [],
   "source": [
    "#android is the default\n",
    "#OS_D = pd.get_dummies(data['operative_system'],drop_first=True)\n",
    "OS_D = pd.get_dummies(resample_control['operative_system'])\n",
    "resample_control = pd.concat([resample_control,OS_D],axis=1)"
   ]
  },
  {
   "cell_type": "code",
   "execution_count": 93,
   "metadata": {},
   "outputs": [
    {
     "data": {
      "text/html": [
       "<div>\n",
       "<style scoped>\n",
       "    .dataframe tbody tr th:only-of-type {\n",
       "        vertical-align: middle;\n",
       "    }\n",
       "\n",
       "    .dataframe tbody tr th {\n",
       "        vertical-align: top;\n",
       "    }\n",
       "\n",
       "    .dataframe thead th {\n",
       "        text-align: right;\n",
       "    }\n",
       "</style>\n",
       "<table border=\"1\" class=\"dataframe\">\n",
       "  <thead>\n",
       "    <tr style=\"text-align: right;\">\n",
       "      <th></th>\n",
       "      <th>Unnamed: 0</th>\n",
       "      <th>user_id</th>\n",
       "      <th>test</th>\n",
       "      <th>price</th>\n",
       "      <th>converted</th>\n",
       "      <th>lat</th>\n",
       "      <th>long</th>\n",
       "      <th>mobile</th>\n",
       "      <th>web</th>\n",
       "      <th>ads</th>\n",
       "      <th>direct_traffic</th>\n",
       "      <th>friend_referral</th>\n",
       "      <th>seo</th>\n",
       "      <th>android</th>\n",
       "      <th>iOS</th>\n",
       "      <th>mac</th>\n",
       "      <th>windows</th>\n",
       "    </tr>\n",
       "  </thead>\n",
       "  <tbody>\n",
       "    <tr>\n",
       "      <th>count</th>\n",
       "      <td>164953.000000</td>\n",
       "      <td>164953.000000</td>\n",
       "      <td>164953.0</td>\n",
       "      <td>1.649530e+05</td>\n",
       "      <td>164953.000000</td>\n",
       "      <td>164953.000000</td>\n",
       "      <td>164953.000000</td>\n",
       "      <td>164953.000000</td>\n",
       "      <td>164953.000000</td>\n",
       "      <td>164953.000000</td>\n",
       "      <td>164953.000000</td>\n",
       "      <td>164953.000000</td>\n",
       "      <td>164953.000000</td>\n",
       "      <td>164953.000000</td>\n",
       "      <td>164953.000000</td>\n",
       "      <td>164953.000000</td>\n",
       "      <td>164953.000000</td>\n",
       "    </tr>\n",
       "    <tr>\n",
       "      <th>mean</th>\n",
       "      <td>158164.132068</td>\n",
       "      <td>498945.947009</td>\n",
       "      <td>0.0</td>\n",
       "      <td>6.289587e+06</td>\n",
       "      <td>0.020194</td>\n",
       "      <td>37.091635</td>\n",
       "      <td>-93.987868</td>\n",
       "      <td>0.579414</td>\n",
       "      <td>0.420586</td>\n",
       "      <td>0.544404</td>\n",
       "      <td>0.191794</td>\n",
       "      <td>0.065437</td>\n",
       "      <td>0.198366</td>\n",
       "      <td>0.254212</td>\n",
       "      <td>0.325202</td>\n",
       "      <td>0.086455</td>\n",
       "      <td>0.334132</td>\n",
       "    </tr>\n",
       "    <tr>\n",
       "      <th>std</th>\n",
       "      <td>91333.834679</td>\n",
       "      <td>288591.246829</td>\n",
       "      <td>0.0</td>\n",
       "      <td>6.703858e+07</td>\n",
       "      <td>0.140663</td>\n",
       "      <td>5.199610</td>\n",
       "      <td>18.074025</td>\n",
       "      <td>0.493655</td>\n",
       "      <td>0.493655</td>\n",
       "      <td>0.498026</td>\n",
       "      <td>0.393713</td>\n",
       "      <td>0.247296</td>\n",
       "      <td>0.398770</td>\n",
       "      <td>0.435419</td>\n",
       "      <td>0.468452</td>\n",
       "      <td>0.281036</td>\n",
       "      <td>0.471687</td>\n",
       "    </tr>\n",
       "    <tr>\n",
       "      <th>min</th>\n",
       "      <td>0.000000</td>\n",
       "      <td>9.000000</td>\n",
       "      <td>0.0</td>\n",
       "      <td>3.900000e+01</td>\n",
       "      <td>0.000000</td>\n",
       "      <td>19.700000</td>\n",
       "      <td>-157.800000</td>\n",
       "      <td>0.000000</td>\n",
       "      <td>0.000000</td>\n",
       "      <td>0.000000</td>\n",
       "      <td>0.000000</td>\n",
       "      <td>0.000000</td>\n",
       "      <td>0.000000</td>\n",
       "      <td>0.000000</td>\n",
       "      <td>0.000000</td>\n",
       "      <td>0.000000</td>\n",
       "      <td>0.000000</td>\n",
       "    </tr>\n",
       "    <tr>\n",
       "      <th>25%</th>\n",
       "      <td>79005.000000</td>\n",
       "      <td>249303.000000</td>\n",
       "      <td>0.0</td>\n",
       "      <td>3.900000e+01</td>\n",
       "      <td>0.000000</td>\n",
       "      <td>33.660000</td>\n",
       "      <td>-112.200000</td>\n",
       "      <td>0.000000</td>\n",
       "      <td>0.000000</td>\n",
       "      <td>0.000000</td>\n",
       "      <td>0.000000</td>\n",
       "      <td>0.000000</td>\n",
       "      <td>0.000000</td>\n",
       "      <td>0.000000</td>\n",
       "      <td>0.000000</td>\n",
       "      <td>0.000000</td>\n",
       "      <td>0.000000</td>\n",
       "    </tr>\n",
       "    <tr>\n",
       "      <th>50%</th>\n",
       "      <td>158365.000000</td>\n",
       "      <td>497999.000000</td>\n",
       "      <td>0.0</td>\n",
       "      <td>3.900000e+01</td>\n",
       "      <td>0.000000</td>\n",
       "      <td>37.690000</td>\n",
       "      <td>-88.550000</td>\n",
       "      <td>1.000000</td>\n",
       "      <td>0.000000</td>\n",
       "      <td>1.000000</td>\n",
       "      <td>0.000000</td>\n",
       "      <td>0.000000</td>\n",
       "      <td>0.000000</td>\n",
       "      <td>0.000000</td>\n",
       "      <td>0.000000</td>\n",
       "      <td>0.000000</td>\n",
       "      <td>0.000000</td>\n",
       "    </tr>\n",
       "    <tr>\n",
       "      <th>75%</th>\n",
       "      <td>237017.000000</td>\n",
       "      <td>748670.000000</td>\n",
       "      <td>0.0</td>\n",
       "      <td>3.900000e+01</td>\n",
       "      <td>0.000000</td>\n",
       "      <td>40.690000</td>\n",
       "      <td>-78.910000</td>\n",
       "      <td>1.000000</td>\n",
       "      <td>1.000000</td>\n",
       "      <td>1.000000</td>\n",
       "      <td>0.000000</td>\n",
       "      <td>0.000000</td>\n",
       "      <td>0.000000</td>\n",
       "      <td>1.000000</td>\n",
       "      <td>1.000000</td>\n",
       "      <td>0.000000</td>\n",
       "      <td>1.000000</td>\n",
       "    </tr>\n",
       "    <tr>\n",
       "      <th>max</th>\n",
       "      <td>316798.000000</td>\n",
       "      <td>999999.000000</td>\n",
       "      <td>0.0</td>\n",
       "      <td>9.998843e+08</td>\n",
       "      <td>1.000000</td>\n",
       "      <td>61.180000</td>\n",
       "      <td>30.310000</td>\n",
       "      <td>1.000000</td>\n",
       "      <td>1.000000</td>\n",
       "      <td>1.000000</td>\n",
       "      <td>1.000000</td>\n",
       "      <td>1.000000</td>\n",
       "      <td>1.000000</td>\n",
       "      <td>1.000000</td>\n",
       "      <td>1.000000</td>\n",
       "      <td>1.000000</td>\n",
       "      <td>1.000000</td>\n",
       "    </tr>\n",
       "  </tbody>\n",
       "</table>\n",
       "</div>"
      ],
      "text/plain": [
       "          Unnamed: 0        user_id      test         price      converted  \\\n",
       "count  164953.000000  164953.000000  164953.0  1.649530e+05  164953.000000   \n",
       "mean   158164.132068  498945.947009       0.0  6.289587e+06       0.020194   \n",
       "std     91333.834679  288591.246829       0.0  6.703858e+07       0.140663   \n",
       "min         0.000000       9.000000       0.0  3.900000e+01       0.000000   \n",
       "25%     79005.000000  249303.000000       0.0  3.900000e+01       0.000000   \n",
       "50%    158365.000000  497999.000000       0.0  3.900000e+01       0.000000   \n",
       "75%    237017.000000  748670.000000       0.0  3.900000e+01       0.000000   \n",
       "max    316798.000000  999999.000000       0.0  9.998843e+08       1.000000   \n",
       "\n",
       "                 lat           long         mobile            web  \\\n",
       "count  164953.000000  164953.000000  164953.000000  164953.000000   \n",
       "mean       37.091635     -93.987868       0.579414       0.420586   \n",
       "std         5.199610      18.074025       0.493655       0.493655   \n",
       "min        19.700000    -157.800000       0.000000       0.000000   \n",
       "25%        33.660000    -112.200000       0.000000       0.000000   \n",
       "50%        37.690000     -88.550000       1.000000       0.000000   \n",
       "75%        40.690000     -78.910000       1.000000       1.000000   \n",
       "max        61.180000      30.310000       1.000000       1.000000   \n",
       "\n",
       "                 ads  direct_traffic  friend_referral            seo  \\\n",
       "count  164953.000000   164953.000000    164953.000000  164953.000000   \n",
       "mean        0.544404        0.191794         0.065437       0.198366   \n",
       "std         0.498026        0.393713         0.247296       0.398770   \n",
       "min         0.000000        0.000000         0.000000       0.000000   \n",
       "25%         0.000000        0.000000         0.000000       0.000000   \n",
       "50%         1.000000        0.000000         0.000000       0.000000   \n",
       "75%         1.000000        0.000000         0.000000       0.000000   \n",
       "max         1.000000        1.000000         1.000000       1.000000   \n",
       "\n",
       "             android            iOS            mac        windows  \n",
       "count  164953.000000  164953.000000  164953.000000  164953.000000  \n",
       "mean        0.254212       0.325202       0.086455       0.334132  \n",
       "std         0.435419       0.468452       0.281036       0.471687  \n",
       "min         0.000000       0.000000       0.000000       0.000000  \n",
       "25%         0.000000       0.000000       0.000000       0.000000  \n",
       "50%         0.000000       0.000000       0.000000       0.000000  \n",
       "75%         1.000000       1.000000       0.000000       1.000000  \n",
       "max         1.000000       1.000000       1.000000       1.000000  "
      ]
     },
     "execution_count": 93,
     "metadata": {},
     "output_type": "execute_result"
    }
   ],
   "source": [
    "resample_control.describe()"
   ]
  },
  {
   "cell_type": "code",
   "execution_count": 142,
   "metadata": {},
   "outputs": [],
   "source": [
    "from sklearn.model_selection import train_test_split\n",
    "X = resample_control[['iOS','mac','windows','direct_traffic','friend_referral','seo']]#,'iOS','mac','windows','direct_traffic','friend_referral','seo']]\n",
    "y = resample_control['converted']"
   ]
  },
  {
   "cell_type": "code",
   "execution_count": 143,
   "metadata": {},
   "outputs": [],
   "source": [
    "X_train, X_test, y_train, y_test = train_test_split(X, y, test_size=0.3, random_state=101)"
   ]
  },
  {
   "cell_type": "code",
   "execution_count": 144,
   "metadata": {},
   "outputs": [],
   "source": [
    "from sklearn.linear_model import LogisticRegression"
   ]
  },
  {
   "cell_type": "code",
   "execution_count": 145,
   "metadata": {},
   "outputs": [],
   "source": [
    "logmodel = LogisticRegression()"
   ]
  },
  {
   "cell_type": "code",
   "execution_count": 146,
   "metadata": {},
   "outputs": [
    {
     "data": {
      "text/plain": [
       "LogisticRegression(C=1.0, class_weight=None, dual=False, fit_intercept=True,\n",
       "                   intercept_scaling=1, l1_ratio=None, max_iter=100,\n",
       "                   multi_class='auto', n_jobs=None, penalty='l2',\n",
       "                   random_state=None, solver='lbfgs', tol=0.0001, verbose=0,\n",
       "                   warm_start=False)"
      ]
     },
     "execution_count": 146,
     "metadata": {},
     "output_type": "execute_result"
    }
   ],
   "source": [
    "logmodel.fit(X_train,y_train)"
   ]
  },
  {
   "cell_type": "code",
   "execution_count": 147,
   "metadata": {},
   "outputs": [],
   "source": [
    "predictions = logmodel.predict(X_test)"
   ]
  },
  {
   "cell_type": "code",
   "execution_count": 1,
   "metadata": {},
   "outputs": [],
   "source": [
    "#'iOS','mac','windows','direct_traffic','friend_referral','seo'\n",
    "#android and ads are coded as 0 \n",
    "#logmodel.predict(np.array([[1,0,0,0,0,0]]))[0]"
   ]
  },
  {
   "cell_type": "code",
   "execution_count": 149,
   "metadata": {},
   "outputs": [
    {
     "data": {
      "text/plain": [
       "0.5582791395697849"
      ]
     },
     "execution_count": 149,
     "metadata": {},
     "output_type": "execute_result"
    }
   ],
   "source": [
    "logmodel.score(X_test,y_test)"
   ]
  },
  {
   "cell_type": "code",
   "execution_count": 150,
   "metadata": {},
   "outputs": [],
   "source": [
    "from sklearn.metrics import classification_report\n",
    "target_names = ['not converted','converted']"
   ]
  },
  {
   "cell_type": "code",
   "execution_count": 151,
   "metadata": {},
   "outputs": [
    {
     "name": "stdout",
     "output_type": "stream",
     "text": [
      "               precision    recall  f1-score   support\n",
      "\n",
      "not converted       0.56      0.63      0.59      1010\n",
      "    converted       0.56      0.49      0.52       989\n",
      "\n",
      "     accuracy                           0.56      1999\n",
      "    macro avg       0.56      0.56      0.56      1999\n",
      " weighted avg       0.56      0.56      0.56      1999\n",
      "\n"
     ]
    }
   ],
   "source": [
    "print(classification_report(y_test,predictions,target_names=target_names))"
   ]
  },
  {
   "cell_type": "code",
   "execution_count": 152,
   "metadata": {},
   "outputs": [],
   "source": [
    "from sklearn.metrics import confusion_matrix"
   ]
  },
  {
   "cell_type": "code",
   "execution_count": 153,
   "metadata": {},
   "outputs": [
    {
     "data": {
      "text/plain": [
       "array([[636, 374],\n",
       "       [509, 480]])"
      ]
     },
     "execution_count": 153,
     "metadata": {},
     "output_type": "execute_result"
    }
   ],
   "source": [
    "confusion_matrix(y_test,predictions)"
   ]
  },
  {
   "cell_type": "markdown",
   "metadata": {},
   "source": [
    "# Targeting operating system and source may be a method to increase conversion rate in the test group which had a lower conversion rate. With a hight false negative rate the model has trouble predicting people who actually converted. Other factors may be better predictors. "
   ]
  },
  {
   "cell_type": "code",
   "execution_count": null,
   "metadata": {},
   "outputs": [],
   "source": []
  }
 ],
 "metadata": {
  "kernelspec": {
   "display_name": "Python 3",
   "language": "python",
   "name": "python3"
  },
  "language_info": {
   "codemirror_mode": {
    "name": "ipython",
    "version": 3
   },
   "file_extension": ".py",
   "mimetype": "text/x-python",
   "name": "python",
   "nbconvert_exporter": "python",
   "pygments_lexer": "ipython3",
   "version": "3.7.4"
  }
 },
 "nbformat": 4,
 "nbformat_minor": 2
}
